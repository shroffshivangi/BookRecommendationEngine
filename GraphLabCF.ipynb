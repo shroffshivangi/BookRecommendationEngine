{
 "cells": [
  {
   "cell_type": "code",
   "execution_count": 31,
   "metadata": {
    "collapsed": false
   },
   "outputs": [
    {
     "data": {
      "text/html": [
       "<div>\n",
       "<table border=\"1\" class=\"dataframe\">\n",
       "  <thead>\n",
       "    <tr style=\"text-align: right;\">\n",
       "      <th></th>\n",
       "      <th>UserID</th>\n",
       "      <th>ISBN</th>\n",
       "      <th>Rating</th>\n",
       "      <th>Author_stndr_values</th>\n",
       "      <th>Age_Stanrd</th>\n",
       "      <th>Cntry_Stnd</th>\n",
       "    </tr>\n",
       "  </thead>\n",
       "  <tbody>\n",
       "    <tr>\n",
       "      <th>0</th>\n",
       "      <td>184299</td>\n",
       "      <td>99975207021</td>\n",
       "      <td>7</td>\n",
       "      <td>0.885407</td>\n",
       "      <td>0.356322</td>\n",
       "      <td>0.950055</td>\n",
       "    </tr>\n",
       "    <tr>\n",
       "      <th>1</th>\n",
       "      <td>199025</td>\n",
       "      <td>99975122621</td>\n",
       "      <td>2</td>\n",
       "      <td>0.907268</td>\n",
       "      <td>0.402299</td>\n",
       "      <td>0.950055</td>\n",
       "    </tr>\n",
       "    <tr>\n",
       "      <th>2</th>\n",
       "      <td>23902</td>\n",
       "      <td>99975080521</td>\n",
       "      <td>6</td>\n",
       "      <td>0.505210</td>\n",
       "      <td>0.402299</td>\n",
       "      <td>0.932773</td>\n",
       "    </tr>\n",
       "    <tr>\n",
       "      <th>3</th>\n",
       "      <td>36836</td>\n",
       "      <td>99975027121</td>\n",
       "      <td>2</td>\n",
       "      <td>0.646363</td>\n",
       "      <td>0.643678</td>\n",
       "      <td>0.950055</td>\n",
       "    </tr>\n",
       "    <tr>\n",
       "      <th>4</th>\n",
       "      <td>69405</td>\n",
       "      <td>99974962321</td>\n",
       "      <td>3</td>\n",
       "      <td>0.228598</td>\n",
       "      <td>0.413793</td>\n",
       "      <td>0.638655</td>\n",
       "    </tr>\n",
       "  </tbody>\n",
       "</table>\n",
       "</div>"
      ],
      "text/plain": [
       "   UserID         ISBN  Rating  Author_stndr_values  Age_Stanrd  Cntry_Stnd\n",
       "0  184299  99975207021       7             0.885407    0.356322    0.950055\n",
       "1  199025  99975122621       2             0.907268    0.402299    0.950055\n",
       "2   23902  99975080521       6             0.505210    0.402299    0.932773\n",
       "3   36836  99975027121       2             0.646363    0.643678    0.950055\n",
       "4   69405  99974962321       3             0.228598    0.413793    0.638655"
      ]
     },
     "execution_count": 31,
     "metadata": {},
     "output_type": "execute_result"
    }
   ],
   "source": [
    "import graphlab\n",
    "import pandas as pd\n",
    "bookData = pd.read_excel('/Users/mukhar207/Desktop/DataProgramming/Python/FinalSubmission/Final_Dataset.xlsx', sheetname = 'FinalData')\n",
    "bookData.head()"
   ]
  },
  {
   "cell_type": "code",
   "execution_count": 3,
   "metadata": {
    "collapsed": false
   },
   "outputs": [
    {
     "data": {
      "text/html": [
       "<div>\n",
       "<table border=\"1\" class=\"dataframe\">\n",
       "  <thead>\n",
       "    <tr style=\"text-align: right;\">\n",
       "      <th></th>\n",
       "      <th>UserID</th>\n",
       "      <th>ISBN</th>\n",
       "      <th>Rating</th>\n",
       "      <th>Author_stndr_values</th>\n",
       "      <th>Age_Stanrd</th>\n",
       "      <th>Cntry_Stnd</th>\n",
       "    </tr>\n",
       "  </thead>\n",
       "  <tbody>\n",
       "    <tr>\n",
       "      <th>0</th>\n",
       "      <td>184299</td>\n",
       "      <td>99975207021</td>\n",
       "      <td>7</td>\n",
       "      <td>0.885407</td>\n",
       "      <td>0.356322</td>\n",
       "      <td>0.950055</td>\n",
       "    </tr>\n",
       "    <tr>\n",
       "      <th>1</th>\n",
       "      <td>199025</td>\n",
       "      <td>99975122621</td>\n",
       "      <td>2</td>\n",
       "      <td>0.907268</td>\n",
       "      <td>0.402299</td>\n",
       "      <td>0.950055</td>\n",
       "    </tr>\n",
       "    <tr>\n",
       "      <th>2</th>\n",
       "      <td>23902</td>\n",
       "      <td>99975080521</td>\n",
       "      <td>6</td>\n",
       "      <td>0.505210</td>\n",
       "      <td>0.402299</td>\n",
       "      <td>0.932773</td>\n",
       "    </tr>\n",
       "    <tr>\n",
       "      <th>3</th>\n",
       "      <td>36836</td>\n",
       "      <td>99975027121</td>\n",
       "      <td>2</td>\n",
       "      <td>0.646363</td>\n",
       "      <td>0.643678</td>\n",
       "      <td>0.950055</td>\n",
       "    </tr>\n",
       "    <tr>\n",
       "      <th>4</th>\n",
       "      <td>69405</td>\n",
       "      <td>99974962321</td>\n",
       "      <td>3</td>\n",
       "      <td>0.228598</td>\n",
       "      <td>0.413793</td>\n",
       "      <td>0.638655</td>\n",
       "    </tr>\n",
       "  </tbody>\n",
       "</table>\n",
       "</div>"
      ],
      "text/plain": [
       "   UserID         ISBN  Rating  Author_stndr_values  Age_Stanrd  Cntry_Stnd\n",
       "0  184299  99975207021       7             0.885407    0.356322    0.950055\n",
       "1  199025  99975122621       2             0.907268    0.402299    0.950055\n",
       "2   23902  99975080521       6             0.505210    0.402299    0.932773\n",
       "3   36836  99975027121       2             0.646363    0.643678    0.950055\n",
       "4   69405  99974962321       3             0.228598    0.413793    0.638655"
      ]
     },
     "execution_count": 3,
     "metadata": {},
     "output_type": "execute_result"
    }
   ],
   "source": [
    "bookData.head()"
   ]
  },
  {
   "cell_type": "code",
   "execution_count": 32,
   "metadata": {
    "collapsed": false
   },
   "outputs": [],
   "source": [
    "newBookDatadict = {'UserID':['count']}\n",
    "newBookDatadf = bookData.groupby('UserID').agg(newBookDatadict)\n",
    "newBookDatadf = newBookDatadf.reset_index()\n",
    "newBookDatadf.columns = ('UserID','UserIDCount')\n",
    "newBookDatadf = newBookDatadf[(newBookDatadf.UserIDCount>20)]"
   ]
  },
  {
   "cell_type": "code",
   "execution_count": 33,
   "metadata": {
    "collapsed": false
   },
   "outputs": [
    {
     "data": {
      "text/html": [
       "<div>\n",
       "<table border=\"1\" class=\"dataframe\">\n",
       "  <thead>\n",
       "    <tr style=\"text-align: right;\">\n",
       "      <th></th>\n",
       "      <th>UserID</th>\n",
       "      <th>UserIDCount</th>\n",
       "      <th>ISBN</th>\n",
       "      <th>Rating</th>\n",
       "      <th>Author_stndr_values</th>\n",
       "      <th>Age_Stanrd</th>\n",
       "      <th>Cntry_Stnd</th>\n",
       "    </tr>\n",
       "  </thead>\n",
       "  <tbody>\n",
       "    <tr>\n",
       "      <th>0</th>\n",
       "      <td>242</td>\n",
       "      <td>26</td>\n",
       "      <td>34231136021</td>\n",
       "      <td>10</td>\n",
       "      <td>0.001022</td>\n",
       "      <td>0.425287</td>\n",
       "      <td>0.344538</td>\n",
       "    </tr>\n",
       "    <tr>\n",
       "      <th>1</th>\n",
       "      <td>242</td>\n",
       "      <td>26</td>\n",
       "      <td>3596292646</td>\n",
       "      <td>7</td>\n",
       "      <td>0.003269</td>\n",
       "      <td>0.425287</td>\n",
       "      <td>0.344538</td>\n",
       "    </tr>\n",
       "    <tr>\n",
       "      <th>2</th>\n",
       "      <td>242</td>\n",
       "      <td>26</td>\n",
       "      <td>3570300099</td>\n",
       "      <td>6</td>\n",
       "      <td>0.008581</td>\n",
       "      <td>0.425287</td>\n",
       "      <td>0.344538</td>\n",
       "    </tr>\n",
       "    <tr>\n",
       "      <th>3</th>\n",
       "      <td>242</td>\n",
       "      <td>26</td>\n",
       "      <td>3548254268</td>\n",
       "      <td>10</td>\n",
       "      <td>0.213479</td>\n",
       "      <td>0.425287</td>\n",
       "      <td>0.344538</td>\n",
       "    </tr>\n",
       "    <tr>\n",
       "      <th>4</th>\n",
       "      <td>242</td>\n",
       "      <td>26</td>\n",
       "      <td>3518111000</td>\n",
       "      <td>5</td>\n",
       "      <td>0.017979</td>\n",
       "      <td>0.425287</td>\n",
       "      <td>0.344538</td>\n",
       "    </tr>\n",
       "  </tbody>\n",
       "</table>\n",
       "</div>"
      ],
      "text/plain": [
       "   UserID  UserIDCount         ISBN  Rating  Author_stndr_values  Age_Stanrd  \\\n",
       "0     242           26  34231136021      10             0.001022    0.425287   \n",
       "1     242           26   3596292646       7             0.003269    0.425287   \n",
       "2     242           26   3570300099       6             0.008581    0.425287   \n",
       "3     242           26   3548254268      10             0.213479    0.425287   \n",
       "4     242           26   3518111000       5             0.017979    0.425287   \n",
       "\n",
       "   Cntry_Stnd  \n",
       "0    0.344538  \n",
       "1    0.344538  \n",
       "2    0.344538  \n",
       "3    0.344538  \n",
       "4    0.344538  "
      ]
     },
     "execution_count": 33,
     "metadata": {},
     "output_type": "execute_result"
    }
   ],
   "source": [
    "joinedBookData = pd.merge(newBookDatadf,bookData, on = \"UserID\", how = \"inner\")\n",
    "joinedBookData.head()"
   ]
  },
  {
   "cell_type": "code",
   "execution_count": 34,
   "metadata": {
    "collapsed": false
   },
   "outputs": [],
   "source": [
    "del joinedBookData['UserIDCount']"
   ]
  },
  {
   "cell_type": "code",
   "execution_count": 35,
   "metadata": {
    "collapsed": false
   },
   "outputs": [
    {
     "data": {
      "text/html": [
       "<div>\n",
       "<table border=\"1\" class=\"dataframe\">\n",
       "  <thead>\n",
       "    <tr style=\"text-align: right;\">\n",
       "      <th></th>\n",
       "      <th>UserID</th>\n",
       "      <th>ISBN</th>\n",
       "      <th>Rating</th>\n",
       "      <th>Author_stndr_values</th>\n",
       "      <th>Age_Stanrd</th>\n",
       "      <th>Cntry_Stnd</th>\n",
       "    </tr>\n",
       "  </thead>\n",
       "  <tbody>\n",
       "    <tr>\n",
       "      <th>0</th>\n",
       "      <td>242</td>\n",
       "      <td>34231136021</td>\n",
       "      <td>10</td>\n",
       "      <td>0.001022</td>\n",
       "      <td>0.425287</td>\n",
       "      <td>0.344538</td>\n",
       "    </tr>\n",
       "    <tr>\n",
       "      <th>1</th>\n",
       "      <td>242</td>\n",
       "      <td>3596292646</td>\n",
       "      <td>7</td>\n",
       "      <td>0.003269</td>\n",
       "      <td>0.425287</td>\n",
       "      <td>0.344538</td>\n",
       "    </tr>\n",
       "    <tr>\n",
       "      <th>2</th>\n",
       "      <td>242</td>\n",
       "      <td>3570300099</td>\n",
       "      <td>6</td>\n",
       "      <td>0.008581</td>\n",
       "      <td>0.425287</td>\n",
       "      <td>0.344538</td>\n",
       "    </tr>\n",
       "    <tr>\n",
       "      <th>3</th>\n",
       "      <td>242</td>\n",
       "      <td>3548254268</td>\n",
       "      <td>10</td>\n",
       "      <td>0.213479</td>\n",
       "      <td>0.425287</td>\n",
       "      <td>0.344538</td>\n",
       "    </tr>\n",
       "    <tr>\n",
       "      <th>4</th>\n",
       "      <td>242</td>\n",
       "      <td>3518111000</td>\n",
       "      <td>5</td>\n",
       "      <td>0.017979</td>\n",
       "      <td>0.425287</td>\n",
       "      <td>0.344538</td>\n",
       "    </tr>\n",
       "    <tr>\n",
       "      <th>5</th>\n",
       "      <td>242</td>\n",
       "      <td>3499151502</td>\n",
       "      <td>9</td>\n",
       "      <td>0.281030</td>\n",
       "      <td>0.425287</td>\n",
       "      <td>0.344538</td>\n",
       "    </tr>\n",
       "    <tr>\n",
       "      <th>6</th>\n",
       "      <td>242</td>\n",
       "      <td>3499110695</td>\n",
       "      <td>7</td>\n",
       "      <td>0.281030</td>\n",
       "      <td>0.425287</td>\n",
       "      <td>0.344538</td>\n",
       "    </tr>\n",
       "    <tr>\n",
       "      <th>7</th>\n",
       "      <td>242</td>\n",
       "      <td>3498020862</td>\n",
       "      <td>8</td>\n",
       "      <td>0.276382</td>\n",
       "      <td>0.425287</td>\n",
       "      <td>0.344538</td>\n",
       "    </tr>\n",
       "    <tr>\n",
       "      <th>8</th>\n",
       "      <td>242</td>\n",
       "      <td>3492045642</td>\n",
       "      <td>8</td>\n",
       "      <td>0.006512</td>\n",
       "      <td>0.425287</td>\n",
       "      <td>0.344538</td>\n",
       "    </tr>\n",
       "    <tr>\n",
       "      <th>9</th>\n",
       "      <td>242</td>\n",
       "      <td>3462021095</td>\n",
       "      <td>9</td>\n",
       "      <td>0.281004</td>\n",
       "      <td>0.425287</td>\n",
       "      <td>0.344538</td>\n",
       "    </tr>\n",
       "    <tr>\n",
       "      <th>10</th>\n",
       "      <td>242</td>\n",
       "      <td>3453212150</td>\n",
       "      <td>7</td>\n",
       "      <td>0.008581</td>\n",
       "      <td>0.425287</td>\n",
       "      <td>0.344538</td>\n",
       "    </tr>\n",
       "    <tr>\n",
       "      <th>11</th>\n",
       "      <td>242</td>\n",
       "      <td>3426605686</td>\n",
       "      <td>7</td>\n",
       "      <td>0.280979</td>\n",
       "      <td>0.425287</td>\n",
       "      <td>0.344538</td>\n",
       "    </tr>\n",
       "    <tr>\n",
       "      <th>12</th>\n",
       "      <td>242</td>\n",
       "      <td>3423241489</td>\n",
       "      <td>8</td>\n",
       "      <td>0.009960</td>\n",
       "      <td>0.425287</td>\n",
       "      <td>0.344538</td>\n",
       "    </tr>\n",
       "    <tr>\n",
       "      <th>13</th>\n",
       "      <td>242</td>\n",
       "      <td>3423116714</td>\n",
       "      <td>9</td>\n",
       "      <td>0.109689</td>\n",
       "      <td>0.425287</td>\n",
       "      <td>0.344538</td>\n",
       "    </tr>\n",
       "    <tr>\n",
       "      <th>14</th>\n",
       "      <td>242</td>\n",
       "      <td>3257233051</td>\n",
       "      <td>9</td>\n",
       "      <td>0.075953</td>\n",
       "      <td>0.425287</td>\n",
       "      <td>0.344538</td>\n",
       "    </tr>\n",
       "    <tr>\n",
       "      <th>15</th>\n",
       "      <td>242</td>\n",
       "      <td>3257216416</td>\n",
       "      <td>7</td>\n",
       "      <td>0.000358</td>\n",
       "      <td>0.425287</td>\n",
       "      <td>0.344538</td>\n",
       "    </tr>\n",
       "    <tr>\n",
       "      <th>16</th>\n",
       "      <td>242</td>\n",
       "      <td>3257214154</td>\n",
       "      <td>9</td>\n",
       "      <td>0.000358</td>\n",
       "      <td>0.425287</td>\n",
       "      <td>0.344538</td>\n",
       "    </tr>\n",
       "    <tr>\n",
       "      <th>17</th>\n",
       "      <td>242</td>\n",
       "      <td>3257212429</td>\n",
       "      <td>10</td>\n",
       "      <td>0.000358</td>\n",
       "      <td>0.425287</td>\n",
       "      <td>0.344538</td>\n",
       "    </tr>\n",
       "    <tr>\n",
       "      <th>18</th>\n",
       "      <td>242</td>\n",
       "      <td>3257212054</td>\n",
       "      <td>10</td>\n",
       "      <td>0.000358</td>\n",
       "      <td>0.425287</td>\n",
       "      <td>0.344538</td>\n",
       "    </tr>\n",
       "    <tr>\n",
       "      <th>19</th>\n",
       "      <td>242</td>\n",
       "      <td>3257210450</td>\n",
       "      <td>10</td>\n",
       "      <td>0.000358</td>\n",
       "      <td>0.425287</td>\n",
       "      <td>0.344538</td>\n",
       "    </tr>\n",
       "    <tr>\n",
       "      <th>20</th>\n",
       "      <td>242</td>\n",
       "      <td>3257208669</td>\n",
       "      <td>9</td>\n",
       "      <td>0.000358</td>\n",
       "      <td>0.425287</td>\n",
       "      <td>0.344538</td>\n",
       "    </tr>\n",
       "    <tr>\n",
       "      <th>21</th>\n",
       "      <td>242</td>\n",
       "      <td>3257208634</td>\n",
       "      <td>10</td>\n",
       "      <td>0.000358</td>\n",
       "      <td>0.425287</td>\n",
       "      <td>0.344538</td>\n",
       "    </tr>\n",
       "    <tr>\n",
       "      <th>22</th>\n",
       "      <td>242</td>\n",
       "      <td>3257208626</td>\n",
       "      <td>8</td>\n",
       "      <td>0.000358</td>\n",
       "      <td>0.425287</td>\n",
       "      <td>0.344538</td>\n",
       "    </tr>\n",
       "    <tr>\n",
       "      <th>23</th>\n",
       "      <td>242</td>\n",
       "      <td>3257207522</td>\n",
       "      <td>10</td>\n",
       "      <td>0.168199</td>\n",
       "      <td>0.425287</td>\n",
       "      <td>0.344538</td>\n",
       "    </tr>\n",
       "    <tr>\n",
       "      <th>24</th>\n",
       "      <td>242</td>\n",
       "      <td>3257203659</td>\n",
       "      <td>9</td>\n",
       "      <td>0.000358</td>\n",
       "      <td>0.425287</td>\n",
       "      <td>0.344538</td>\n",
       "    </tr>\n",
       "    <tr>\n",
       "      <th>25</th>\n",
       "      <td>242</td>\n",
       "      <td>3150000335</td>\n",
       "      <td>10</td>\n",
       "      <td>0.069491</td>\n",
       "      <td>0.425287</td>\n",
       "      <td>0.344538</td>\n",
       "    </tr>\n",
       "    <tr>\n",
       "      <th>26</th>\n",
       "      <td>254</td>\n",
       "      <td>15697162021</td>\n",
       "      <td>9</td>\n",
       "      <td>0.053121</td>\n",
       "      <td>0.275862</td>\n",
       "      <td>0.950055</td>\n",
       "    </tr>\n",
       "    <tr>\n",
       "      <th>27</th>\n",
       "      <td>254</td>\n",
       "      <td>15638922621</td>\n",
       "      <td>9</td>\n",
       "      <td>0.053121</td>\n",
       "      <td>0.275862</td>\n",
       "      <td>0.950055</td>\n",
       "    </tr>\n",
       "    <tr>\n",
       "      <th>28</th>\n",
       "      <td>254</td>\n",
       "      <td>15516650021</td>\n",
       "      <td>1</td>\n",
       "      <td>0.048652</td>\n",
       "      <td>0.275862</td>\n",
       "      <td>0.950055</td>\n",
       "    </tr>\n",
       "    <tr>\n",
       "      <th>29</th>\n",
       "      <td>254</td>\n",
       "      <td>8839645221</td>\n",
       "      <td>9</td>\n",
       "      <td>0.144422</td>\n",
       "      <td>0.275862</td>\n",
       "      <td>0.950055</td>\n",
       "    </tr>\n",
       "    <tr>\n",
       "      <th>...</th>\n",
       "      <td>...</td>\n",
       "      <td>...</td>\n",
       "      <td>...</td>\n",
       "      <td>...</td>\n",
       "      <td>...</td>\n",
       "      <td>...</td>\n",
       "    </tr>\n",
       "    <tr>\n",
       "      <th>104418</th>\n",
       "      <td>278418</td>\n",
       "      <td>1551668122</td>\n",
       "      <td>3</td>\n",
       "      <td>0.114823</td>\n",
       "      <td>0.402299</td>\n",
       "      <td>0.950055</td>\n",
       "    </tr>\n",
       "    <tr>\n",
       "      <th>104419</th>\n",
       "      <td>278418</td>\n",
       "      <td>1551666243</td>\n",
       "      <td>1</td>\n",
       "      <td>0.096256</td>\n",
       "      <td>0.402299</td>\n",
       "      <td>0.950055</td>\n",
       "    </tr>\n",
       "    <tr>\n",
       "      <th>104420</th>\n",
       "      <td>278418</td>\n",
       "      <td>1551665859</td>\n",
       "      <td>3</td>\n",
       "      <td>0.036265</td>\n",
       "      <td>0.402299</td>\n",
       "      <td>0.950055</td>\n",
       "    </tr>\n",
       "    <tr>\n",
       "      <th>104421</th>\n",
       "      <td>278418</td>\n",
       "      <td>1551665646</td>\n",
       "      <td>7</td>\n",
       "      <td>0.908699</td>\n",
       "      <td>0.402299</td>\n",
       "      <td>0.950055</td>\n",
       "    </tr>\n",
       "    <tr>\n",
       "      <th>104422</th>\n",
       "      <td>278418</td>\n",
       "      <td>1551665549</td>\n",
       "      <td>1</td>\n",
       "      <td>0.131423</td>\n",
       "      <td>0.402299</td>\n",
       "      <td>0.950055</td>\n",
       "    </tr>\n",
       "    <tr>\n",
       "      <th>104423</th>\n",
       "      <td>278418</td>\n",
       "      <td>1551665069</td>\n",
       "      <td>4</td>\n",
       "      <td>0.054321</td>\n",
       "      <td>0.402299</td>\n",
       "      <td>0.950055</td>\n",
       "    </tr>\n",
       "    <tr>\n",
       "      <th>104424</th>\n",
       "      <td>278418</td>\n",
       "      <td>1551665026</td>\n",
       "      <td>1</td>\n",
       "      <td>0.011876</td>\n",
       "      <td>0.402299</td>\n",
       "      <td>0.950055</td>\n",
       "    </tr>\n",
       "    <tr>\n",
       "      <th>104425</th>\n",
       "      <td>278418</td>\n",
       "      <td>1551664844</td>\n",
       "      <td>1</td>\n",
       "      <td>0.049367</td>\n",
       "      <td>0.402299</td>\n",
       "      <td>0.950055</td>\n",
       "    </tr>\n",
       "    <tr>\n",
       "      <th>104426</th>\n",
       "      <td>278418</td>\n",
       "      <td>1551664496</td>\n",
       "      <td>8</td>\n",
       "      <td>0.169221</td>\n",
       "      <td>0.402299</td>\n",
       "      <td>0.950055</td>\n",
       "    </tr>\n",
       "    <tr>\n",
       "      <th>104427</th>\n",
       "      <td>278418</td>\n",
       "      <td>1551664372</td>\n",
       "      <td>8</td>\n",
       "      <td>0.096256</td>\n",
       "      <td>0.402299</td>\n",
       "      <td>0.950055</td>\n",
       "    </tr>\n",
       "    <tr>\n",
       "      <th>104428</th>\n",
       "      <td>278418</td>\n",
       "      <td>1551664275</td>\n",
       "      <td>7</td>\n",
       "      <td>0.027046</td>\n",
       "      <td>0.402299</td>\n",
       "      <td>0.950055</td>\n",
       "    </tr>\n",
       "    <tr>\n",
       "      <th>104429</th>\n",
       "      <td>278418</td>\n",
       "      <td>1551661489</td>\n",
       "      <td>6</td>\n",
       "      <td>0.096256</td>\n",
       "      <td>0.402299</td>\n",
       "      <td>0.950055</td>\n",
       "    </tr>\n",
       "    <tr>\n",
       "      <th>104430</th>\n",
       "      <td>278418</td>\n",
       "      <td>1551660687</td>\n",
       "      <td>6</td>\n",
       "      <td>0.025564</td>\n",
       "      <td>0.402299</td>\n",
       "      <td>0.950055</td>\n",
       "    </tr>\n",
       "    <tr>\n",
       "      <th>104431</th>\n",
       "      <td>278418</td>\n",
       "      <td>1551660350</td>\n",
       "      <td>8</td>\n",
       "      <td>0.031949</td>\n",
       "      <td>0.402299</td>\n",
       "      <td>0.950055</td>\n",
       "    </tr>\n",
       "    <tr>\n",
       "      <th>104432</th>\n",
       "      <td>278418</td>\n",
       "      <td>1551660210</td>\n",
       "      <td>9</td>\n",
       "      <td>0.011876</td>\n",
       "      <td>0.402299</td>\n",
       "      <td>0.950055</td>\n",
       "    </tr>\n",
       "    <tr>\n",
       "      <th>104433</th>\n",
       "      <td>278418</td>\n",
       "      <td>1529964621</td>\n",
       "      <td>10</td>\n",
       "      <td>0.964680</td>\n",
       "      <td>0.402299</td>\n",
       "      <td>0.950055</td>\n",
       "    </tr>\n",
       "    <tr>\n",
       "      <th>104434</th>\n",
       "      <td>278418</td>\n",
       "      <td>1405866121</td>\n",
       "      <td>3</td>\n",
       "      <td>0.378409</td>\n",
       "      <td>0.402299</td>\n",
       "      <td>0.950055</td>\n",
       "    </tr>\n",
       "    <tr>\n",
       "      <th>104435</th>\n",
       "      <td>278418</td>\n",
       "      <td>1403633621</td>\n",
       "      <td>5</td>\n",
       "      <td>0.209649</td>\n",
       "      <td>0.402299</td>\n",
       "      <td>0.950055</td>\n",
       "    </tr>\n",
       "    <tr>\n",
       "      <th>104436</th>\n",
       "      <td>278418</td>\n",
       "      <td>1403429421</td>\n",
       "      <td>6</td>\n",
       "      <td>0.021529</td>\n",
       "      <td>0.402299</td>\n",
       "      <td>0.950055</td>\n",
       "    </tr>\n",
       "    <tr>\n",
       "      <th>104437</th>\n",
       "      <td>278418</td>\n",
       "      <td>1402544821</td>\n",
       "      <td>3</td>\n",
       "      <td>0.100802</td>\n",
       "      <td>0.402299</td>\n",
       "      <td>0.950055</td>\n",
       "    </tr>\n",
       "    <tr>\n",
       "      <th>104438</th>\n",
       "      <td>278418</td>\n",
       "      <td>1400012023</td>\n",
       "      <td>9</td>\n",
       "      <td>0.971933</td>\n",
       "      <td>0.402299</td>\n",
       "      <td>0.950055</td>\n",
       "    </tr>\n",
       "    <tr>\n",
       "      <th>104439</th>\n",
       "      <td>278418</td>\n",
       "      <td>644414421</td>\n",
       "      <td>2</td>\n",
       "      <td>0.663960</td>\n",
       "      <td>0.402299</td>\n",
       "      <td>0.950055</td>\n",
       "    </tr>\n",
       "    <tr>\n",
       "      <th>104440</th>\n",
       "      <td>278418</td>\n",
       "      <td>610992121</td>\n",
       "      <td>5</td>\n",
       "      <td>0.038564</td>\n",
       "      <td>0.402299</td>\n",
       "      <td>0.950055</td>\n",
       "    </tr>\n",
       "    <tr>\n",
       "      <th>104441</th>\n",
       "      <td>278418</td>\n",
       "      <td>610939821</td>\n",
       "      <td>5</td>\n",
       "      <td>0.031847</td>\n",
       "      <td>0.402299</td>\n",
       "      <td>0.950055</td>\n",
       "    </tr>\n",
       "    <tr>\n",
       "      <th>104442</th>\n",
       "      <td>278418</td>\n",
       "      <td>609841821</td>\n",
       "      <td>9</td>\n",
       "      <td>0.997395</td>\n",
       "      <td>0.402299</td>\n",
       "      <td>0.950055</td>\n",
       "    </tr>\n",
       "    <tr>\n",
       "      <th>104443</th>\n",
       "      <td>278418</td>\n",
       "      <td>602088321</td>\n",
       "      <td>2</td>\n",
       "      <td>0.997369</td>\n",
       "      <td>0.402299</td>\n",
       "      <td>0.950055</td>\n",
       "    </tr>\n",
       "    <tr>\n",
       "      <th>104444</th>\n",
       "      <td>278418</td>\n",
       "      <td>601684821</td>\n",
       "      <td>10</td>\n",
       "      <td>0.023496</td>\n",
       "      <td>0.402299</td>\n",
       "      <td>0.950055</td>\n",
       "    </tr>\n",
       "    <tr>\n",
       "      <th>104445</th>\n",
       "      <td>278418</td>\n",
       "      <td>601595721</td>\n",
       "      <td>2</td>\n",
       "      <td>0.043876</td>\n",
       "      <td>0.402299</td>\n",
       "      <td>0.950055</td>\n",
       "    </tr>\n",
       "    <tr>\n",
       "      <th>104446</th>\n",
       "      <td>278418</td>\n",
       "      <td>302143621</td>\n",
       "      <td>3</td>\n",
       "      <td>0.849908</td>\n",
       "      <td>0.402299</td>\n",
       "      <td>0.950055</td>\n",
       "    </tr>\n",
       "    <tr>\n",
       "      <th>104447</th>\n",
       "      <td>278418</td>\n",
       "      <td>204330021</td>\n",
       "      <td>2</td>\n",
       "      <td>0.594315</td>\n",
       "      <td>0.402299</td>\n",
       "      <td>0.950055</td>\n",
       "    </tr>\n",
       "  </tbody>\n",
       "</table>\n",
       "<p>104448 rows × 6 columns</p>\n",
       "</div>"
      ],
      "text/plain": [
       "        UserID         ISBN  Rating  Author_stndr_values  Age_Stanrd  \\\n",
       "0          242  34231136021      10             0.001022    0.425287   \n",
       "1          242   3596292646       7             0.003269    0.425287   \n",
       "2          242   3570300099       6             0.008581    0.425287   \n",
       "3          242   3548254268      10             0.213479    0.425287   \n",
       "4          242   3518111000       5             0.017979    0.425287   \n",
       "5          242   3499151502       9             0.281030    0.425287   \n",
       "6          242   3499110695       7             0.281030    0.425287   \n",
       "7          242   3498020862       8             0.276382    0.425287   \n",
       "8          242   3492045642       8             0.006512    0.425287   \n",
       "9          242   3462021095       9             0.281004    0.425287   \n",
       "10         242   3453212150       7             0.008581    0.425287   \n",
       "11         242   3426605686       7             0.280979    0.425287   \n",
       "12         242   3423241489       8             0.009960    0.425287   \n",
       "13         242   3423116714       9             0.109689    0.425287   \n",
       "14         242   3257233051       9             0.075953    0.425287   \n",
       "15         242   3257216416       7             0.000358    0.425287   \n",
       "16         242   3257214154       9             0.000358    0.425287   \n",
       "17         242   3257212429      10             0.000358    0.425287   \n",
       "18         242   3257212054      10             0.000358    0.425287   \n",
       "19         242   3257210450      10             0.000358    0.425287   \n",
       "20         242   3257208669       9             0.000358    0.425287   \n",
       "21         242   3257208634      10             0.000358    0.425287   \n",
       "22         242   3257208626       8             0.000358    0.425287   \n",
       "23         242   3257207522      10             0.168199    0.425287   \n",
       "24         242   3257203659       9             0.000358    0.425287   \n",
       "25         242   3150000335      10             0.069491    0.425287   \n",
       "26         254  15697162021       9             0.053121    0.275862   \n",
       "27         254  15638922621       9             0.053121    0.275862   \n",
       "28         254  15516650021       1             0.048652    0.275862   \n",
       "29         254   8839645221       9             0.144422    0.275862   \n",
       "...        ...          ...     ...                  ...         ...   \n",
       "104418  278418   1551668122       3             0.114823    0.402299   \n",
       "104419  278418   1551666243       1             0.096256    0.402299   \n",
       "104420  278418   1551665859       3             0.036265    0.402299   \n",
       "104421  278418   1551665646       7             0.908699    0.402299   \n",
       "104422  278418   1551665549       1             0.131423    0.402299   \n",
       "104423  278418   1551665069       4             0.054321    0.402299   \n",
       "104424  278418   1551665026       1             0.011876    0.402299   \n",
       "104425  278418   1551664844       1             0.049367    0.402299   \n",
       "104426  278418   1551664496       8             0.169221    0.402299   \n",
       "104427  278418   1551664372       8             0.096256    0.402299   \n",
       "104428  278418   1551664275       7             0.027046    0.402299   \n",
       "104429  278418   1551661489       6             0.096256    0.402299   \n",
       "104430  278418   1551660687       6             0.025564    0.402299   \n",
       "104431  278418   1551660350       8             0.031949    0.402299   \n",
       "104432  278418   1551660210       9             0.011876    0.402299   \n",
       "104433  278418   1529964621      10             0.964680    0.402299   \n",
       "104434  278418   1405866121       3             0.378409    0.402299   \n",
       "104435  278418   1403633621       5             0.209649    0.402299   \n",
       "104436  278418   1403429421       6             0.021529    0.402299   \n",
       "104437  278418   1402544821       3             0.100802    0.402299   \n",
       "104438  278418   1400012023       9             0.971933    0.402299   \n",
       "104439  278418    644414421       2             0.663960    0.402299   \n",
       "104440  278418    610992121       5             0.038564    0.402299   \n",
       "104441  278418    610939821       5             0.031847    0.402299   \n",
       "104442  278418    609841821       9             0.997395    0.402299   \n",
       "104443  278418    602088321       2             0.997369    0.402299   \n",
       "104444  278418    601684821      10             0.023496    0.402299   \n",
       "104445  278418    601595721       2             0.043876    0.402299   \n",
       "104446  278418    302143621       3             0.849908    0.402299   \n",
       "104447  278418    204330021       2             0.594315    0.402299   \n",
       "\n",
       "        Cntry_Stnd  \n",
       "0         0.344538  \n",
       "1         0.344538  \n",
       "2         0.344538  \n",
       "3         0.344538  \n",
       "4         0.344538  \n",
       "5         0.344538  \n",
       "6         0.344538  \n",
       "7         0.344538  \n",
       "8         0.344538  \n",
       "9         0.344538  \n",
       "10        0.344538  \n",
       "11        0.344538  \n",
       "12        0.344538  \n",
       "13        0.344538  \n",
       "14        0.344538  \n",
       "15        0.344538  \n",
       "16        0.344538  \n",
       "17        0.344538  \n",
       "18        0.344538  \n",
       "19        0.344538  \n",
       "20        0.344538  \n",
       "21        0.344538  \n",
       "22        0.344538  \n",
       "23        0.344538  \n",
       "24        0.344538  \n",
       "25        0.344538  \n",
       "26        0.950055  \n",
       "27        0.950055  \n",
       "28        0.950055  \n",
       "29        0.950055  \n",
       "...            ...  \n",
       "104418    0.950055  \n",
       "104419    0.950055  \n",
       "104420    0.950055  \n",
       "104421    0.950055  \n",
       "104422    0.950055  \n",
       "104423    0.950055  \n",
       "104424    0.950055  \n",
       "104425    0.950055  \n",
       "104426    0.950055  \n",
       "104427    0.950055  \n",
       "104428    0.950055  \n",
       "104429    0.950055  \n",
       "104430    0.950055  \n",
       "104431    0.950055  \n",
       "104432    0.950055  \n",
       "104433    0.950055  \n",
       "104434    0.950055  \n",
       "104435    0.950055  \n",
       "104436    0.950055  \n",
       "104437    0.950055  \n",
       "104438    0.950055  \n",
       "104439    0.950055  \n",
       "104440    0.950055  \n",
       "104441    0.950055  \n",
       "104442    0.950055  \n",
       "104443    0.950055  \n",
       "104444    0.950055  \n",
       "104445    0.950055  \n",
       "104446    0.950055  \n",
       "104447    0.950055  \n",
       "\n",
       "[104448 rows x 6 columns]"
      ]
     },
     "execution_count": 35,
     "metadata": {},
     "output_type": "execute_result"
    }
   ],
   "source": [
    "joinedBookData"
   ]
  },
  {
   "cell_type": "code",
   "execution_count": 36,
   "metadata": {
    "collapsed": false
   },
   "outputs": [],
   "source": [
    "from sklearn.cross_validation import train_test_split\n",
    "splitData = joinedBookData\n",
    "book_trainData, book_testData = train_test_split(splitData,test_size=0.4, random_state = 123)"
   ]
  },
  {
   "cell_type": "code",
   "execution_count": 37,
   "metadata": {
    "collapsed": false
   },
   "outputs": [
    {
     "data": {
      "text/plain": [
       "(62668, 6)"
      ]
     },
     "execution_count": 37,
     "metadata": {},
     "output_type": "execute_result"
    }
   ],
   "source": [
    "book_trainData.shape"
   ]
  },
  {
   "cell_type": "code",
   "execution_count": 38,
   "metadata": {
    "collapsed": false
   },
   "outputs": [
    {
     "data": {
      "text/plain": [
       "(41780, 6)"
      ]
     },
     "execution_count": 38,
     "metadata": {},
     "output_type": "execute_result"
    }
   ],
   "source": [
    "book_testData.shape"
   ]
  },
  {
   "cell_type": "code",
   "execution_count": 39,
   "metadata": {
    "collapsed": false
   },
   "outputs": [
    {
     "data": {
      "text/plain": [
       "UserID                   int64\n",
       "ISBN                     int64\n",
       "Rating                   int64\n",
       "Author_stndr_values    float64\n",
       "Age_Stanrd             float64\n",
       "Cntry_Stnd             float64\n",
       "dtype: object"
      ]
     },
     "execution_count": 39,
     "metadata": {},
     "output_type": "execute_result"
    }
   ],
   "source": [
    "book_trainData.dtypes"
   ]
  },
  {
   "cell_type": "code",
   "execution_count": 40,
   "metadata": {
    "collapsed": false
   },
   "outputs": [],
   "source": [
    "trainData = graphlab.SFrame(book_trainData)\n",
    "testData = graphlab.SFrame(book_testData)"
   ]
  },
  {
   "cell_type": "code",
   "execution_count": 41,
   "metadata": {
    "collapsed": false
   },
   "outputs": [
    {
     "data": {
      "text/html": [
       "<div style=\"max-height:1000px;max-width:1500px;overflow:auto;\"><table frame=\"box\" rules=\"cols\">\n",
       "    <tr>\n",
       "        <th style=\"padding-left: 1em; padding-right: 1em; text-align: center\">UserID</th>\n",
       "        <th style=\"padding-left: 1em; padding-right: 1em; text-align: center\">ISBN</th>\n",
       "        <th style=\"padding-left: 1em; padding-right: 1em; text-align: center\">Rating</th>\n",
       "        <th style=\"padding-left: 1em; padding-right: 1em; text-align: center\">Author_stndr_values</th>\n",
       "        <th style=\"padding-left: 1em; padding-right: 1em; text-align: center\">Age_Stanrd</th>\n",
       "        <th style=\"padding-left: 1em; padding-right: 1em; text-align: center\">Cntry_Stnd</th>\n",
       "    </tr>\n",
       "    <tr>\n",
       "        <td style=\"padding-left: 1em; padding-right: 1em; text-align: center; vertical-align: top\">215225</td>\n",
       "        <td style=\"padding-left: 1em; padding-right: 1em; text-align: center; vertical-align: top\">3548255329</td>\n",
       "        <td style=\"padding-left: 1em; padding-right: 1em; text-align: center; vertical-align: top\">1</td>\n",
       "        <td style=\"padding-left: 1em; padding-right: 1em; text-align: center; vertical-align: top\">0.0218612728573</td>\n",
       "        <td style=\"padding-left: 1em; padding-right: 1em; text-align: center; vertical-align: top\">0.459770114943</td>\n",
       "        <td style=\"padding-left: 1em; padding-right: 1em; text-align: center; vertical-align: top\">0.344537815126</td>\n",
       "    </tr>\n",
       "    <tr>\n",
       "        <td style=\"padding-left: 1em; padding-right: 1em; text-align: center; vertical-align: top\">138441</td>\n",
       "        <td style=\"padding-left: 1em; padding-right: 1em; text-align: center; vertical-align: top\">8217751221</td>\n",
       "        <td style=\"padding-left: 1em; padding-right: 1em; text-align: center; vertical-align: top\">10</td>\n",
       "        <td style=\"padding-left: 1em; padding-right: 1em; text-align: center; vertical-align: top\">0.124936152825</td>\n",
       "        <td style=\"padding-left: 1em; padding-right: 1em; text-align: center; vertical-align: top\">0.390804597701</td>\n",
       "        <td style=\"padding-left: 1em; padding-right: 1em; text-align: center; vertical-align: top\">0.950055493896</td>\n",
       "    </tr>\n",
       "    <tr>\n",
       "        <td style=\"padding-left: 1em; padding-right: 1em; text-align: center; vertical-align: top\">159440</td>\n",
       "        <td style=\"padding-left: 1em; padding-right: 1em; text-align: center; vertical-align: top\">2743602295</td>\n",
       "        <td style=\"padding-left: 1em; padding-right: 1em; text-align: center; vertical-align: top\">8</td>\n",
       "        <td style=\"padding-left: 1em; padding-right: 1em; text-align: center; vertical-align: top\">0.0207120237001</td>\n",
       "        <td style=\"padding-left: 1em; padding-right: 1em; text-align: center; vertical-align: top\">0.310344827586</td>\n",
       "        <td style=\"padding-left: 1em; padding-right: 1em; text-align: center; vertical-align: top\">0.319327731092</td>\n",
       "    </tr>\n",
       "    <tr>\n",
       "        <td style=\"padding-left: 1em; padding-right: 1em; text-align: center; vertical-align: top\">163202</td>\n",
       "        <td style=\"padding-left: 1em; padding-right: 1em; text-align: center; vertical-align: top\">18723721821</td>\n",
       "        <td style=\"padding-left: 1em; padding-right: 1em; text-align: center; vertical-align: top\">2</td>\n",
       "        <td style=\"padding-left: 1em; padding-right: 1em; text-align: center; vertical-align: top\">0.855296761671</td>\n",
       "        <td style=\"padding-left: 1em; padding-right: 1em; text-align: center; vertical-align: top\">0.298850574713</td>\n",
       "        <td style=\"padding-left: 1em; padding-right: 1em; text-align: center; vertical-align: top\">0.950055493896</td>\n",
       "    </tr>\n",
       "    <tr>\n",
       "        <td style=\"padding-left: 1em; padding-right: 1em; text-align: center; vertical-align: top\">35859</td>\n",
       "        <td style=\"padding-left: 1em; padding-right: 1em; text-align: center; vertical-align: top\">601595721</td>\n",
       "        <td style=\"padding-left: 1em; padding-right: 1em; text-align: center; vertical-align: top\">6</td>\n",
       "        <td style=\"padding-left: 1em; padding-right: 1em; text-align: center; vertical-align: top\">0.0438757789355</td>\n",
       "        <td style=\"padding-left: 1em; padding-right: 1em; text-align: center; vertical-align: top\">0.402298850575</td>\n",
       "        <td style=\"padding-left: 1em; padding-right: 1em; text-align: center; vertical-align: top\">0.950055493896</td>\n",
       "    </tr>\n",
       "    <tr>\n",
       "        <td style=\"padding-left: 1em; padding-right: 1em; text-align: center; vertical-align: top\">198711</td>\n",
       "        <td style=\"padding-left: 1em; padding-right: 1em; text-align: center; vertical-align: top\">1570821410</td>\n",
       "        <td style=\"padding-left: 1em; padding-right: 1em; text-align: center; vertical-align: top\">1</td>\n",
       "        <td style=\"padding-left: 1em; padding-right: 1em; text-align: center; vertical-align: top\">0.161533353764</td>\n",
       "        <td style=\"padding-left: 1em; padding-right: 1em; text-align: center; vertical-align: top\">0.712643678161</td>\n",
       "        <td style=\"padding-left: 1em; padding-right: 1em; text-align: center; vertical-align: top\">0.950055493896</td>\n",
       "    </tr>\n",
       "    <tr>\n",
       "        <td style=\"padding-left: 1em; padding-right: 1em; text-align: center; vertical-align: top\">180651</td>\n",
       "        <td style=\"padding-left: 1em; padding-right: 1em; text-align: center; vertical-align: top\">1406206321</td>\n",
       "        <td style=\"padding-left: 1em; padding-right: 1em; text-align: center; vertical-align: top\">8</td>\n",
       "        <td style=\"padding-left: 1em; padding-right: 1em; text-align: center; vertical-align: top\">0.0203289406477</td>\n",
       "        <td style=\"padding-left: 1em; padding-right: 1em; text-align: center; vertical-align: top\">0.620689655172</td>\n",
       "        <td style=\"padding-left: 1em; padding-right: 1em; text-align: center; vertical-align: top\">0.932773109244</td>\n",
       "    </tr>\n",
       "    <tr>\n",
       "        <td style=\"padding-left: 1em; padding-right: 1em; text-align: center; vertical-align: top\">156972</td>\n",
       "        <td style=\"padding-left: 1em; padding-right: 1em; text-align: center; vertical-align: top\">2070360644</td>\n",
       "        <td style=\"padding-left: 1em; padding-right: 1em; text-align: center; vertical-align: top\">8</td>\n",
       "        <td style=\"padding-left: 1em; padding-right: 1em; text-align: center; vertical-align: top\">0.0488558586168</td>\n",
       "        <td style=\"padding-left: 1em; padding-right: 1em; text-align: center; vertical-align: top\">0.298850574713</td>\n",
       "        <td style=\"padding-left: 1em; padding-right: 1em; text-align: center; vertical-align: top\">0.319327731092</td>\n",
       "    </tr>\n",
       "    <tr>\n",
       "        <td style=\"padding-left: 1em; padding-right: 1em; text-align: center; vertical-align: top\">131126</td>\n",
       "        <td style=\"padding-left: 1em; padding-right: 1em; text-align: center; vertical-align: top\">84790165421</td>\n",
       "        <td style=\"padding-left: 1em; padding-right: 1em; text-align: center; vertical-align: top\">8</td>\n",
       "        <td style=\"padding-left: 1em; padding-right: 1em; text-align: center; vertical-align: top\">0.0251302482378</td>\n",
       "        <td style=\"padding-left: 1em; padding-right: 1em; text-align: center; vertical-align: top\">0.35632183908</td>\n",
       "        <td style=\"padding-left: 1em; padding-right: 1em; text-align: center; vertical-align: top\">0.831932773109</td>\n",
       "    </tr>\n",
       "    <tr>\n",
       "        <td style=\"padding-left: 1em; padding-right: 1em; text-align: center; vertical-align: top\">160405</td>\n",
       "        <td style=\"padding-left: 1em; padding-right: 1em; text-align: center; vertical-align: top\">3462032208</td>\n",
       "        <td style=\"padding-left: 1em; padding-right: 1em; text-align: center; vertical-align: top\">7</td>\n",
       "        <td style=\"padding-left: 1em; padding-right: 1em; text-align: center; vertical-align: top\">0.00860659924405</td>\n",
       "        <td style=\"padding-left: 1em; padding-right: 1em; text-align: center; vertical-align: top\">0.402298850575</td>\n",
       "        <td style=\"padding-left: 1em; padding-right: 1em; text-align: center; vertical-align: top\">0.344537815126</td>\n",
       "    </tr>\n",
       "</table>\n",
       "[62668 rows x 6 columns]<br/>Note: Only the head of the SFrame is printed.<br/>You can use print_rows(num_rows=m, num_columns=n) to print more rows and columns.\n",
       "</div>"
      ],
      "text/plain": [
       "Columns:\n",
       "\tUserID\tint\n",
       "\tISBN\tint\n",
       "\tRating\tint\n",
       "\tAuthor_stndr_values\tfloat\n",
       "\tAge_Stanrd\tfloat\n",
       "\tCntry_Stnd\tfloat\n",
       "\n",
       "Rows: 62668\n",
       "\n",
       "Data:\n",
       "+--------+-------------+--------+---------------------+----------------+\n",
       "| UserID |     ISBN    | Rating | Author_stndr_values |   Age_Stanrd   |\n",
       "+--------+-------------+--------+---------------------+----------------+\n",
       "| 215225 |  3548255329 |   1    |   0.0218612728573   | 0.459770114943 |\n",
       "| 138441 |  8217751221 |   10   |    0.124936152825   | 0.390804597701 |\n",
       "| 159440 |  2743602295 |   8    |   0.0207120237001   | 0.310344827586 |\n",
       "| 163202 | 18723721821 |   2    |    0.855296761671   | 0.298850574713 |\n",
       "| 35859  |  601595721  |   6    |   0.0438757789355   | 0.402298850575 |\n",
       "| 198711 |  1570821410 |   1    |    0.161533353764   | 0.712643678161 |\n",
       "| 180651 |  1406206321 |   8    |   0.0203289406477   | 0.620689655172 |\n",
       "| 156972 |  2070360644 |   8    |   0.0488558586168   | 0.298850574713 |\n",
       "| 131126 | 84790165421 |   8    |   0.0251302482378   | 0.35632183908  |\n",
       "| 160405 |  3462032208 |   7    |   0.00860659924405  | 0.402298850575 |\n",
       "+--------+-------------+--------+---------------------+----------------+\n",
       "+----------------+\n",
       "|   Cntry_Stnd   |\n",
       "+----------------+\n",
       "| 0.344537815126 |\n",
       "| 0.950055493896 |\n",
       "| 0.319327731092 |\n",
       "| 0.950055493896 |\n",
       "| 0.950055493896 |\n",
       "| 0.950055493896 |\n",
       "| 0.932773109244 |\n",
       "| 0.319327731092 |\n",
       "| 0.831932773109 |\n",
       "| 0.344537815126 |\n",
       "+----------------+\n",
       "[62668 rows x 6 columns]\n",
       "Note: Only the head of the SFrame is printed.\n",
       "You can use print_rows(num_rows=m, num_columns=n) to print more rows and columns."
      ]
     },
     "execution_count": 41,
     "metadata": {},
     "output_type": "execute_result"
    }
   ],
   "source": [
    "trainData"
   ]
  },
  {
   "cell_type": "code",
   "execution_count": 42,
   "metadata": {
    "collapsed": false
   },
   "outputs": [
    {
     "data": {
      "text/html": [
       "<div style=\"max-height:1000px;max-width:1500px;overflow:auto;\"><table frame=\"box\" rules=\"cols\">\n",
       "    <tr>\n",
       "        <th style=\"padding-left: 1em; padding-right: 1em; text-align: center\">UserID</th>\n",
       "        <th style=\"padding-left: 1em; padding-right: 1em; text-align: center\">ISBN</th>\n",
       "        <th style=\"padding-left: 1em; padding-right: 1em; text-align: center\">Rating</th>\n",
       "        <th style=\"padding-left: 1em; padding-right: 1em; text-align: center\">Author_stndr_values</th>\n",
       "        <th style=\"padding-left: 1em; padding-right: 1em; text-align: center\">Age_Stanrd</th>\n",
       "        <th style=\"padding-left: 1em; padding-right: 1em; text-align: center\">Cntry_Stnd</th>\n",
       "    </tr>\n",
       "    <tr>\n",
       "        <td style=\"padding-left: 1em; padding-right: 1em; text-align: center; vertical-align: top\">149069</td>\n",
       "        <td style=\"padding-left: 1em; padding-right: 1em; text-align: center; vertical-align: top\">5151295021</td>\n",
       "        <td style=\"padding-left: 1em; padding-right: 1em; text-align: center; vertical-align: top\">4</td>\n",
       "        <td style=\"padding-left: 1em; padding-right: 1em; text-align: center; vertical-align: top\">0.560756972112</td>\n",
       "        <td style=\"padding-left: 1em; padding-right: 1em; text-align: center; vertical-align: top\">0.344827586207</td>\n",
       "        <td style=\"padding-left: 1em; padding-right: 1em; text-align: center; vertical-align: top\">0.950055493896</td>\n",
       "    </tr>\n",
       "    <tr>\n",
       "        <td style=\"padding-left: 1em; padding-right: 1em; text-align: center; vertical-align: top\">245499</td>\n",
       "        <td style=\"padding-left: 1em; padding-right: 1em; text-align: center; vertical-align: top\">34531517821</td>\n",
       "        <td style=\"padding-left: 1em; padding-right: 1em; text-align: center; vertical-align: top\">1</td>\n",
       "        <td style=\"padding-left: 1em; padding-right: 1em; text-align: center; vertical-align: top\">0.0866789253243</td>\n",
       "        <td style=\"padding-left: 1em; padding-right: 1em; text-align: center; vertical-align: top\">0.344827586207</td>\n",
       "        <td style=\"padding-left: 1em; padding-right: 1em; text-align: center; vertical-align: top\">0.344537815126</td>\n",
       "    </tr>\n",
       "    <tr>\n",
       "        <td style=\"padding-left: 1em; padding-right: 1em; text-align: center; vertical-align: top\">193458</td>\n",
       "        <td style=\"padding-left: 1em; padding-right: 1em; text-align: center; vertical-align: top\">1550135562</td>\n",
       "        <td style=\"padding-left: 1em; padding-right: 1em; text-align: center; vertical-align: top\">4</td>\n",
       "        <td style=\"padding-left: 1em; padding-right: 1em; text-align: center; vertical-align: top\">0.19100520993</td>\n",
       "        <td style=\"padding-left: 1em; padding-right: 1em; text-align: center; vertical-align: top\">0.459770114943</td>\n",
       "        <td style=\"padding-left: 1em; padding-right: 1em; text-align: center; vertical-align: top\">0.168067226891</td>\n",
       "    </tr>\n",
       "    <tr>\n",
       "        <td style=\"padding-left: 1em; padding-right: 1em; text-align: center; vertical-align: top\">236283</td>\n",
       "        <td style=\"padding-left: 1em; padding-right: 1em; text-align: center; vertical-align: top\">4402044721</td>\n",
       "        <td style=\"padding-left: 1em; padding-right: 1em; text-align: center; vertical-align: top\">2</td>\n",
       "        <td style=\"padding-left: 1em; padding-right: 1em; text-align: center; vertical-align: top\">0.0866533864542</td>\n",
       "        <td style=\"padding-left: 1em; padding-right: 1em; text-align: center; vertical-align: top\">0.471264367816</td>\n",
       "        <td style=\"padding-left: 1em; padding-right: 1em; text-align: center; vertical-align: top\">0.950055493896</td>\n",
       "    </tr>\n",
       "    <tr>\n",
       "        <td style=\"padding-left: 1em; padding-right: 1em; text-align: center; vertical-align: top\">15589</td>\n",
       "        <td style=\"padding-left: 1em; padding-right: 1em; text-align: center; vertical-align: top\">20807086621</td>\n",
       "        <td style=\"padding-left: 1em; padding-right: 1em; text-align: center; vertical-align: top\">8</td>\n",
       "        <td style=\"padding-left: 1em; padding-right: 1em; text-align: center; vertical-align: top\">0.239733374196</td>\n",
       "        <td style=\"padding-left: 1em; padding-right: 1em; text-align: center; vertical-align: top\">0.402298850575</td>\n",
       "        <td style=\"padding-left: 1em; padding-right: 1em; text-align: center; vertical-align: top\">0.319327731092</td>\n",
       "    </tr>\n",
       "    <tr>\n",
       "        <td style=\"padding-left: 1em; padding-right: 1em; text-align: center; vertical-align: top\">105187</td>\n",
       "        <td style=\"padding-left: 1em; padding-right: 1em; text-align: center; vertical-align: top\">1853260002</td>\n",
       "        <td style=\"padding-left: 1em; padding-right: 1em; text-align: center; vertical-align: top\">4</td>\n",
       "        <td style=\"padding-left: 1em; padding-right: 1em; text-align: center; vertical-align: top\">0.010036775973</td>\n",
       "        <td style=\"padding-left: 1em; padding-right: 1em; text-align: center; vertical-align: top\">0.609195402299</td>\n",
       "        <td style=\"padding-left: 1em; padding-right: 1em; text-align: center; vertical-align: top\">0.319327731092</td>\n",
       "    </tr>\n",
       "    <tr>\n",
       "        <td style=\"padding-left: 1em; padding-right: 1em; text-align: center; vertical-align: top\">40943</td>\n",
       "        <td style=\"padding-left: 1em; padding-right: 1em; text-align: center; vertical-align: top\">1563097354</td>\n",
       "        <td style=\"padding-left: 1em; padding-right: 1em; text-align: center; vertical-align: top\">6</td>\n",
       "        <td style=\"padding-left: 1em; padding-right: 1em; text-align: center; vertical-align: top\">0.617070180815</td>\n",
       "        <td style=\"padding-left: 1em; padding-right: 1em; text-align: center; vertical-align: top\">0.459770114943</td>\n",
       "        <td style=\"padding-left: 1em; padding-right: 1em; text-align: center; vertical-align: top\">0.950055493896</td>\n",
       "    </tr>\n",
       "    <tr>\n",
       "        <td style=\"padding-left: 1em; padding-right: 1em; text-align: center; vertical-align: top\">26516</td>\n",
       "        <td style=\"padding-left: 1em; padding-right: 1em; text-align: center; vertical-align: top\">3732574921</td>\n",
       "        <td style=\"padding-left: 1em; padding-right: 1em; text-align: center; vertical-align: top\">9</td>\n",
       "        <td style=\"padding-left: 1em; padding-right: 1em; text-align: center; vertical-align: top\">0.0933445704362</td>\n",
       "        <td style=\"padding-left: 1em; padding-right: 1em; text-align: center; vertical-align: top\">0.770114942529</td>\n",
       "        <td style=\"padding-left: 1em; padding-right: 1em; text-align: center; vertical-align: top\">0.950055493896</td>\n",
       "    </tr>\n",
       "    <tr>\n",
       "        <td style=\"padding-left: 1em; padding-right: 1em; text-align: center; vertical-align: top\">73394</td>\n",
       "        <td style=\"padding-left: 1em; padding-right: 1em; text-align: center; vertical-align: top\">3822860867</td>\n",
       "        <td style=\"padding-left: 1em; padding-right: 1em; text-align: center; vertical-align: top\">3</td>\n",
       "        <td style=\"padding-left: 1em; padding-right: 1em; text-align: center; vertical-align: top\">0.0139442231076</td>\n",
       "        <td style=\"padding-left: 1em; padding-right: 1em; text-align: center; vertical-align: top\">0.379310344828</td>\n",
       "        <td style=\"padding-left: 1em; padding-right: 1em; text-align: center; vertical-align: top\">0.950055493896</td>\n",
       "    </tr>\n",
       "    <tr>\n",
       "        <td style=\"padding-left: 1em; padding-right: 1em; text-align: center; vertical-align: top\">183287</td>\n",
       "        <td style=\"padding-left: 1em; padding-right: 1em; text-align: center; vertical-align: top\">2290045764</td>\n",
       "        <td style=\"padding-left: 1em; padding-right: 1em; text-align: center; vertical-align: top\">1</td>\n",
       "        <td style=\"padding-left: 1em; padding-right: 1em; text-align: center; vertical-align: top\">0.0585350904076</td>\n",
       "        <td style=\"padding-left: 1em; padding-right: 1em; text-align: center; vertical-align: top\">0.32183908046</td>\n",
       "        <td style=\"padding-left: 1em; padding-right: 1em; text-align: center; vertical-align: top\">0.319327731092</td>\n",
       "    </tr>\n",
       "</table>\n",
       "[41780 rows x 6 columns]<br/>Note: Only the head of the SFrame is printed.<br/>You can use print_rows(num_rows=m, num_columns=n) to print more rows and columns.\n",
       "</div>"
      ],
      "text/plain": [
       "Columns:\n",
       "\tUserID\tint\n",
       "\tISBN\tint\n",
       "\tRating\tint\n",
       "\tAuthor_stndr_values\tfloat\n",
       "\tAge_Stanrd\tfloat\n",
       "\tCntry_Stnd\tfloat\n",
       "\n",
       "Rows: 41780\n",
       "\n",
       "Data:\n",
       "+--------+-------------+--------+---------------------+----------------+\n",
       "| UserID |     ISBN    | Rating | Author_stndr_values |   Age_Stanrd   |\n",
       "+--------+-------------+--------+---------------------+----------------+\n",
       "| 149069 |  5151295021 |   4    |    0.560756972112   | 0.344827586207 |\n",
       "| 245499 | 34531517821 |   1    |   0.0866789253243   | 0.344827586207 |\n",
       "| 193458 |  1550135562 |   4    |    0.19100520993    | 0.459770114943 |\n",
       "| 236283 |  4402044721 |   2    |   0.0866533864542   | 0.471264367816 |\n",
       "| 15589  | 20807086621 |   8    |    0.239733374196   | 0.402298850575 |\n",
       "| 105187 |  1853260002 |   4    |    0.010036775973   | 0.609195402299 |\n",
       "| 40943  |  1563097354 |   6    |    0.617070180815   | 0.459770114943 |\n",
       "| 26516  |  3732574921 |   9    |   0.0933445704362   | 0.770114942529 |\n",
       "| 73394  |  3822860867 |   3    |   0.0139442231076   | 0.379310344828 |\n",
       "| 183287 |  2290045764 |   1    |   0.0585350904076   | 0.32183908046  |\n",
       "+--------+-------------+--------+---------------------+----------------+\n",
       "+----------------+\n",
       "|   Cntry_Stnd   |\n",
       "+----------------+\n",
       "| 0.950055493896 |\n",
       "| 0.344537815126 |\n",
       "| 0.168067226891 |\n",
       "| 0.950055493896 |\n",
       "| 0.319327731092 |\n",
       "| 0.319327731092 |\n",
       "| 0.950055493896 |\n",
       "| 0.950055493896 |\n",
       "| 0.950055493896 |\n",
       "| 0.319327731092 |\n",
       "+----------------+\n",
       "[41780 rows x 6 columns]\n",
       "Note: Only the head of the SFrame is printed.\n",
       "You can use print_rows(num_rows=m, num_columns=n) to print more rows and columns."
      ]
     },
     "execution_count": 42,
     "metadata": {},
     "output_type": "execute_result"
    }
   ],
   "source": [
    "testData"
   ]
  },
  {
   "cell_type": "markdown",
   "metadata": {},
   "source": [
    "# Simple Popularity Model"
   ]
  },
  {
   "cell_type": "code",
   "execution_count": 43,
   "metadata": {
    "collapsed": false
   },
   "outputs": [
    {
     "data": {
      "text/html": [
       "<pre>Recsys training: model = popularity</pre>"
      ],
      "text/plain": [
       "Recsys training: model = popularity"
      ]
     },
     "metadata": {},
     "output_type": "display_data"
    },
    {
     "data": {
      "text/html": [
       "<pre>Warning: Ignoring columns Author_stndr_values, Age_Stanrd, Cntry_Stnd;</pre>"
      ],
      "text/plain": [
       "Warning: Ignoring columns Author_stndr_values, Age_Stanrd, Cntry_Stnd;"
      ]
     },
     "metadata": {},
     "output_type": "display_data"
    },
    {
     "data": {
      "text/html": [
       "<pre>    To use these columns in scoring predictions, use a model that allows the use of additional features.</pre>"
      ],
      "text/plain": [
       "    To use these columns in scoring predictions, use a model that allows the use of additional features."
      ]
     },
     "metadata": {},
     "output_type": "display_data"
    },
    {
     "data": {
      "text/html": [
       "<pre>Preparing data set.</pre>"
      ],
      "text/plain": [
       "Preparing data set."
      ]
     },
     "metadata": {},
     "output_type": "display_data"
    },
    {
     "data": {
      "text/html": [
       "<pre>    Data has 62668 observations with 1670 users and 33643 items.</pre>"
      ],
      "text/plain": [
       "    Data has 62668 observations with 1670 users and 33643 items."
      ]
     },
     "metadata": {},
     "output_type": "display_data"
    },
    {
     "data": {
      "text/html": [
       "<pre>    Data prepared in: 0.427563s</pre>"
      ],
      "text/plain": [
       "    Data prepared in: 0.427563s"
      ]
     },
     "metadata": {},
     "output_type": "display_data"
    },
    {
     "data": {
      "text/html": [
       "<pre>62668 observations to process; with 33643 unique items.</pre>"
      ],
      "text/plain": [
       "62668 observations to process; with 33643 unique items."
      ]
     },
     "metadata": {},
     "output_type": "display_data"
    }
   ],
   "source": [
    "popularity_model = graphlab.popularity_recommender.create(trainData, user_id='UserID', item_id='ISBN', target='Rating')"
   ]
  },
  {
   "cell_type": "code",
   "execution_count": 45,
   "metadata": {
    "collapsed": false
   },
   "outputs": [
    {
     "data": {
      "text/html": [
       "<pre>recommendations finished on 1000/1670 queries. users per second: 5266.82</pre>"
      ],
      "text/plain": [
       "recommendations finished on 1000/1670 queries. users per second: 5266.82"
      ]
     },
     "metadata": {},
     "output_type": "display_data"
    },
    {
     "name": "stdout",
     "output_type": "stream",
     "text": [
      "+--------+------------+-------+------+\n",
      "| UserID |    ISBN    | score | rank |\n",
      "+--------+------------+-------+------+\n",
      "| 215225 | 8420636398 |  10.0 |  1   |\n",
      "| 215225 | 5254717421 |  10.0 |  2   |\n",
      "| 215225 | 1558703160 |  10.0 |  3   |\n",
      "| 138441 | 8420636398 |  10.0 |  1   |\n",
      "| 138441 | 5254717421 |  10.0 |  2   |\n",
      "| 138441 | 1558703160 |  10.0 |  3   |\n",
      "| 159440 | 8420636398 |  10.0 |  1   |\n",
      "| 159440 | 5254717421 |  10.0 |  2   |\n",
      "| 159440 | 1558703160 |  10.0 |  3   |\n",
      "| 163202 | 8420636398 |  10.0 |  1   |\n",
      "| 163202 | 5254717421 |  10.0 |  2   |\n",
      "| 163202 | 1558703160 |  10.0 |  3   |\n",
      "| 35859  | 8420636398 |  10.0 |  1   |\n",
      "| 35859  | 5254717421 |  10.0 |  2   |\n",
      "| 35859  | 1558703160 |  10.0 |  3   |\n",
      "| 198711 | 8420636398 |  10.0 |  1   |\n",
      "| 198711 | 5254717421 |  10.0 |  2   |\n",
      "| 198711 | 1558703160 |  10.0 |  3   |\n",
      "| 180651 | 8420636398 |  10.0 |  1   |\n",
      "| 180651 | 5254717421 |  10.0 |  2   |\n",
      "| 180651 | 1558703160 |  10.0 |  3   |\n",
      "| 156972 | 8420636398 |  10.0 |  1   |\n",
      "| 156972 | 5254717421 |  10.0 |  2   |\n",
      "| 156972 | 1558703160 |  10.0 |  3   |\n",
      "| 131126 | 8420636398 |  10.0 |  1   |\n",
      "| 131126 | 5254717421 |  10.0 |  2   |\n",
      "| 131126 | 1558703160 |  10.0 |  3   |\n",
      "| 160405 | 8420636398 |  10.0 |  1   |\n",
      "| 160405 | 5254717421 |  10.0 |  2   |\n",
      "| 160405 | 1558703160 |  10.0 |  3   |\n",
      "| 109040 | 8420636398 |  10.0 |  1   |\n",
      "| 109040 | 5254717421 |  10.0 |  2   |\n",
      "| 109040 | 1558703160 |  10.0 |  3   |\n",
      "| 32721  | 8420636398 |  10.0 |  1   |\n",
      "| 32721  | 5254717421 |  10.0 |  2   |\n",
      "| 32721  | 1558703160 |  10.0 |  3   |\n",
      "| 13082  | 8420636398 |  10.0 |  1   |\n",
      "| 13082  | 5254717421 |  10.0 |  2   |\n",
      "| 13082  | 1558703160 |  10.0 |  3   |\n",
      "| 199772 | 8420636398 |  10.0 |  1   |\n",
      "| 199772 | 5254717421 |  10.0 |  2   |\n",
      "| 199772 | 1558703160 |  10.0 |  3   |\n",
      "| 160032 | 8420636398 |  10.0 |  1   |\n",
      "| 160032 | 5254717421 |  10.0 |  2   |\n",
      "| 160032 | 1558703160 |  10.0 |  3   |\n",
      "| 69232  | 8420636398 |  10.0 |  1   |\n",
      "| 69232  | 5254717421 |  10.0 |  2   |\n",
      "| 69232  | 1558703160 |  10.0 |  3   |\n",
      "| 123981 | 8420636398 |  10.0 |  1   |\n",
      "| 123981 | 5254717421 |  10.0 |  2   |\n",
      "| 123981 | 1558703160 |  10.0 |  3   |\n",
      "| 225087 | 8420636398 |  10.0 |  1   |\n",
      "| 225087 | 5254717421 |  10.0 |  2   |\n",
      "| 225087 | 1558703160 |  10.0 |  3   |\n",
      "| 236959 | 8420636398 |  10.0 |  1   |\n",
      "| 236959 | 5254717421 |  10.0 |  2   |\n",
      "| 236959 | 1558703160 |  10.0 |  3   |\n",
      "| 162052 | 8420636398 |  10.0 |  1   |\n",
      "| 162052 | 5254717421 |  10.0 |  2   |\n",
      "| 162052 | 1558703160 |  10.0 |  3   |\n",
      "| 208568 | 8420636398 |  10.0 |  1   |\n",
      "| 208568 | 5254717421 |  10.0 |  2   |\n",
      "| 208568 | 1558703160 |  10.0 |  3   |\n",
      "| 115120 | 8420636398 |  10.0 |  1   |\n",
      "| 115120 | 5254717421 |  10.0 |  2   |\n",
      "| 115120 | 1558703160 |  10.0 |  3   |\n",
      "| 187256 | 8420636398 |  10.0 |  1   |\n",
      "| 187256 | 5254717421 |  10.0 |  2   |\n",
      "| 187256 | 1558703160 |  10.0 |  3   |\n",
      "| 36554  | 8420636398 |  10.0 |  1   |\n",
      "| 36554  | 5254717421 |  10.0 |  2   |\n",
      "| 36554  | 1558703160 |  10.0 |  3   |\n",
      "| 146113 | 601672221  |  10.0 |  1   |\n",
      "| 146113 | 8420636398 |  10.0 |  2   |\n",
      "| 146113 | 5254717421 |  10.0 |  3   |\n",
      "| 39646  | 8420636398 |  10.0 |  1   |\n",
      "| 39646  | 5254717421 |  10.0 |  2   |\n",
      "| 39646  | 1558703160 |  10.0 |  3   |\n",
      "| 25409  | 8420636398 |  10.0 |  1   |\n",
      "| 25409  | 5254717421 |  10.0 |  2   |\n",
      "| 25409  | 1558703160 |  10.0 |  3   |\n",
      "| 206932 | 8420636398 |  10.0 |  1   |\n",
      "| 206932 | 5254717421 |  10.0 |  2   |\n",
      "| 206932 | 1558703160 |  10.0 |  3   |\n",
      "| 141710 | 8420636398 |  10.0 |  1   |\n",
      "| 141710 | 5254717421 |  10.0 |  2   |\n",
      "| 141710 | 1558703160 |  10.0 |  3   |\n",
      "| 101876 | 8420636398 |  10.0 |  1   |\n",
      "| 101876 | 5254717421 |  10.0 |  2   |\n",
      "| 101876 | 1558703160 |  10.0 |  3   |\n",
      "| 114414 | 8420636398 |  10.0 |  1   |\n",
      "| 114414 | 5254717421 |  10.0 |  2   |\n",
      "| 114414 | 1558703160 |  10.0 |  3   |\n",
      "| 85433  | 8420636398 |  10.0 |  1   |\n",
      "| 85433  | 5254717421 |  10.0 |  2   |\n",
      "| 85433  | 1558703160 |  10.0 |  3   |\n",
      "| 98391  | 8420636398 |  10.0 |  1   |\n",
      "| 98391  | 5254717421 |  10.0 |  2   |\n",
      "| 98391  | 1558703160 |  10.0 |  3   |\n",
      "| 218831 | 8420636398 |  10.0 |  1   |\n",
      "+--------+------------+-------+------+\n",
      "[5010 rows x 4 columns]\n",
      "\n"
     ]
    }
   ],
   "source": [
    "popularity_recomm = popularity_model.recommend(k=3)\n",
    "popularity_recomm.print_rows(num_rows=100)"
   ]
  },
  {
   "cell_type": "markdown",
   "metadata": {},
   "source": [
    "# Item Based Collaborative Filtering Model"
   ]
  },
  {
   "cell_type": "code",
   "execution_count": 46,
   "metadata": {
    "collapsed": false
   },
   "outputs": [
    {
     "data": {
      "text/html": [
       "<pre>Recsys training: model = item_similarity</pre>"
      ],
      "text/plain": [
       "Recsys training: model = item_similarity"
      ]
     },
     "metadata": {},
     "output_type": "display_data"
    },
    {
     "data": {
      "text/html": [
       "<pre>Warning: Ignoring columns Author_stndr_values, Age_Stanrd, Cntry_Stnd;</pre>"
      ],
      "text/plain": [
       "Warning: Ignoring columns Author_stndr_values, Age_Stanrd, Cntry_Stnd;"
      ]
     },
     "metadata": {},
     "output_type": "display_data"
    },
    {
     "data": {
      "text/html": [
       "<pre>    To use these columns in scoring predictions, use a model that allows the use of additional features.</pre>"
      ],
      "text/plain": [
       "    To use these columns in scoring predictions, use a model that allows the use of additional features."
      ]
     },
     "metadata": {},
     "output_type": "display_data"
    },
    {
     "data": {
      "text/html": [
       "<pre>Preparing data set.</pre>"
      ],
      "text/plain": [
       "Preparing data set."
      ]
     },
     "metadata": {},
     "output_type": "display_data"
    },
    {
     "data": {
      "text/html": [
       "<pre>    Data has 62668 observations with 1670 users and 33643 items.</pre>"
      ],
      "text/plain": [
       "    Data has 62668 observations with 1670 users and 33643 items."
      ]
     },
     "metadata": {},
     "output_type": "display_data"
    },
    {
     "data": {
      "text/html": [
       "<pre>    Data prepared in: 0.37871s</pre>"
      ],
      "text/plain": [
       "    Data prepared in: 0.37871s"
      ]
     },
     "metadata": {},
     "output_type": "display_data"
    },
    {
     "data": {
      "text/html": [
       "<pre>Training model from provided data.</pre>"
      ],
      "text/plain": [
       "Training model from provided data."
      ]
     },
     "metadata": {},
     "output_type": "display_data"
    },
    {
     "data": {
      "text/html": [
       "<pre>Gathering per-item and per-user statistics.</pre>"
      ],
      "text/plain": [
       "Gathering per-item and per-user statistics."
      ]
     },
     "metadata": {},
     "output_type": "display_data"
    },
    {
     "data": {
      "text/html": [
       "<pre>+--------------------------------+------------+</pre>"
      ],
      "text/plain": [
       "+--------------------------------+------------+"
      ]
     },
     "metadata": {},
     "output_type": "display_data"
    },
    {
     "data": {
      "text/html": [
       "<pre>| Elapsed Time (Item Statistics) | % Complete |</pre>"
      ],
      "text/plain": [
       "| Elapsed Time (Item Statistics) | % Complete |"
      ]
     },
     "metadata": {},
     "output_type": "display_data"
    },
    {
     "data": {
      "text/html": [
       "<pre>+--------------------------------+------------+</pre>"
      ],
      "text/plain": [
       "+--------------------------------+------------+"
      ]
     },
     "metadata": {},
     "output_type": "display_data"
    },
    {
     "data": {
      "text/html": [
       "<pre>| 9.613ms                        | 59.75      |</pre>"
      ],
      "text/plain": [
       "| 9.613ms                        | 59.75      |"
      ]
     },
     "metadata": {},
     "output_type": "display_data"
    },
    {
     "data": {
      "text/html": [
       "<pre>| 17.164ms                       | 100        |</pre>"
      ],
      "text/plain": [
       "| 17.164ms                       | 100        |"
      ]
     },
     "metadata": {},
     "output_type": "display_data"
    },
    {
     "data": {
      "text/html": [
       "<pre>+--------------------------------+------------+</pre>"
      ],
      "text/plain": [
       "+--------------------------------+------------+"
      ]
     },
     "metadata": {},
     "output_type": "display_data"
    },
    {
     "data": {
      "text/html": [
       "<pre>Setting up lookup tables.</pre>"
      ],
      "text/plain": [
       "Setting up lookup tables."
      ]
     },
     "metadata": {},
     "output_type": "display_data"
    },
    {
     "data": {
      "text/html": [
       "<pre>Processing data in one pass using dense lookup tables.</pre>"
      ],
      "text/plain": [
       "Processing data in one pass using dense lookup tables."
      ]
     },
     "metadata": {},
     "output_type": "display_data"
    },
    {
     "data": {
      "text/html": [
       "<pre>+-------------------------------------+------------------+-----------------+</pre>"
      ],
      "text/plain": [
       "+-------------------------------------+------------------+-----------------+"
      ]
     },
     "metadata": {},
     "output_type": "display_data"
    },
    {
     "data": {
      "text/html": [
       "<pre>| Elapsed Time (Constructing Lookups) | Total % Complete | Items Processed |</pre>"
      ],
      "text/plain": [
       "| Elapsed Time (Constructing Lookups) | Total % Complete | Items Processed |"
      ]
     },
     "metadata": {},
     "output_type": "display_data"
    },
    {
     "data": {
      "text/html": [
       "<pre>+-------------------------------------+------------------+-----------------+</pre>"
      ],
      "text/plain": [
       "+-------------------------------------+------------------+-----------------+"
      ]
     },
     "metadata": {},
     "output_type": "display_data"
    },
    {
     "data": {
      "text/html": [
       "<pre>| 7.75s                               | 0                | 35              |</pre>"
      ],
      "text/plain": [
       "| 7.75s                               | 0                | 35              |"
      ]
     },
     "metadata": {},
     "output_type": "display_data"
    },
    {
     "data": {
      "text/html": [
       "<pre>| 8.75s                               | 48.75            | 16407           |</pre>"
      ],
      "text/plain": [
       "| 8.75s                               | 48.75            | 16407           |"
      ]
     },
     "metadata": {},
     "output_type": "display_data"
    },
    {
     "data": {
      "text/html": [
       "<pre>| 9.76s                               | 66.5             | 22375           |</pre>"
      ],
      "text/plain": [
       "| 9.76s                               | 66.5             | 22375           |"
      ]
     },
     "metadata": {},
     "output_type": "display_data"
    },
    {
     "data": {
      "text/html": [
       "<pre>| 10.76s                              | 85.75            | 28931           |</pre>"
      ],
      "text/plain": [
       "| 10.76s                              | 85.75            | 28931           |"
      ]
     },
     "metadata": {},
     "output_type": "display_data"
    },
    {
     "data": {
      "text/html": [
       "<pre>| 11.77s                              | 95.5             | 32187           |</pre>"
      ],
      "text/plain": [
       "| 11.77s                              | 95.5             | 32187           |"
      ]
     },
     "metadata": {},
     "output_type": "display_data"
    },
    {
     "data": {
      "text/html": [
       "<pre>| 36.34s                              | 100              | 33643           |</pre>"
      ],
      "text/plain": [
       "| 36.34s                              | 100              | 33643           |"
      ]
     },
     "metadata": {},
     "output_type": "display_data"
    },
    {
     "data": {
      "text/html": [
       "<pre>+-------------------------------------+------------------+-----------------+</pre>"
      ],
      "text/plain": [
       "+-------------------------------------+------------------+-----------------+"
      ]
     },
     "metadata": {},
     "output_type": "display_data"
    },
    {
     "data": {
      "text/html": [
       "<pre>Finalizing lookup tables.</pre>"
      ],
      "text/plain": [
       "Finalizing lookup tables."
      ]
     },
     "metadata": {},
     "output_type": "display_data"
    },
    {
     "data": {
      "text/html": [
       "<pre>Generating candidate set for working with new users.</pre>"
      ],
      "text/plain": [
       "Generating candidate set for working with new users."
      ]
     },
     "metadata": {},
     "output_type": "display_data"
    },
    {
     "data": {
      "text/html": [
       "<pre>Finished training in 36.4339s</pre>"
      ],
      "text/plain": [
       "Finished training in 36.4339s"
      ]
     },
     "metadata": {},
     "output_type": "display_data"
    }
   ],
   "source": [
    "item_sim_model = graphlab.item_similarity_recommender.create(trainData, user_id='UserID', item_id='ISBN', \n",
    "                                                             target='Rating', similarity_type='cosine')"
   ]
  },
  {
   "cell_type": "code",
   "execution_count": 47,
   "metadata": {
    "collapsed": false,
    "scrolled": false
   },
   "outputs": [
    {
     "data": {
      "text/html": [
       "<pre>recommendations finished on 1000/1670 queries. users per second: 2868.81</pre>"
      ],
      "text/plain": [
       "recommendations finished on 1000/1670 queries. users per second: 2868.81"
      ]
     },
     "metadata": {},
     "output_type": "display_data"
    },
    {
     "name": "stdout",
     "output_type": "stream",
     "text": [
      "+--------+-------------+-----------------+------+\n",
      "| UserID |     ISBN    |      score      | rank |\n",
      "+--------+-------------+-----------------+------+\n",
      "| 215225 |  3778736140 |  0.215824087461 |  1   |\n",
      "| 215225 |  3442120772 |  0.215824087461 |  2   |\n",
      "| 215225 |  3550071671 |  0.215824087461 |  3   |\n",
      "| 138441 |  6700305221 |  0.492897213499 |  1   |\n",
      "| 138441 |  1551668297 |  0.492897213499 |  2   |\n",
      "| 138441 |  1594141800 |  0.492897213499 |  3   |\n",
      "| 159440 |  2277213187 |  0.184014995893 |  1   |\n",
      "| 159440 |  2266071173 |  0.184014995893 |  2   |\n",
      "| 159440 |  2253033650 |  0.184014995893 |  3   |\n",
      "| 163202 |  601672221  |  0.254488156901 |  1   |\n",
      "| 163202 |  1562827693 |  0.216811329126 |  2   |\n",
      "| 163202 |  1551668726 |  0.208963543177 |  3   |\n",
      "| 35859  |  1562823779 | 0.0906260386757 |  1   |\n",
      "| 35859  |  8167163421 | 0.0879641994186 |  2   |\n",
      "| 35859  |  8995450521 | 0.0879641994186 |  3   |\n",
      "| 198711 |  1575661195 | 0.0787630275265 |  1   |\n",
      "| 198711 |  1550660209 | 0.0787630275265 |  2   |\n",
      "| 198711 |  3123025521 | 0.0787630275265 |  3   |\n",
      "| 180651 |  7090520921 |  0.134342627393 |  1   |\n",
      "| 180651 | 18412173121 |  0.134342627393 |  2   |\n",
      "| 180651 |  3123156621 |  0.134342627393 |  3   |\n",
      "| 156972 |  2070402223 |  0.240151102128 |  1   |\n",
      "| 156972 |  2020550784 |  0.240151102128 |  2   |\n",
      "| 156972 |  2290034029 |  0.240151102128 |  3   |\n",
      "| 131126 |  8420604062 |  0.31625631305  |  1   |\n",
      "| 131126 |  8435016285 |  0.31625631305  |  2   |\n",
      "| 131126 |  8420615544 |  0.31625631305  |  3   |\n",
      "| 160405 | 32572328721 |  2.68553494343  |  1   |\n",
      "| 160405 |  3548256740 |  2.48380081781  |  2   |\n",
      "| 160405 |  3257233477 |  2.15995922259  |  3   |\n",
      "| 109040 |  2253143707 |  0.337395789368 |  1   |\n",
      "| 109040 |  2290114812 |  0.337395789368 |  2   |\n",
      "| 109040 |  2841139905 |  0.337395789368 |  3   |\n",
      "| 32721  |  2264020601 |  0.137454591948 |  1   |\n",
      "| 32721  | 22530578621 |  0.137454591948 |  2   |\n",
      "| 32721  |  2070283836 |  0.137454591948 |  3   |\n",
      "| 13082  |  5259434821 |  0.358453810215 |  1   |\n",
      "| 13082  |  1564144917 |  0.358453810215 |  2   |\n",
      "| 13082  | 19315148121 |  0.358453810215 |  3   |\n",
      "| 199772 |  1585422762 |  0.303682755965 |  1   |\n",
      "| 199772 |  1570980926 |  0.257294118404 |  2   |\n",
      "| 199772 |  891760326  |  0.257294118404 |  3   |\n",
      "| 160032 |  3548251285 |  0.065993825763 |  1   |\n",
      "| 160032 |  3426610205 |  0.065993825763 |  2   |\n",
      "| 160032 |  3404259343 |  0.065993825763 |  3   |\n",
      "| 69232  |  1576577074 |  0.267434076829 |  1   |\n",
      "| 69232  |  1557233632 |  0.267434076829 |  2   |\n",
      "| 69232  |  1589970519 |  0.267434076829 |  3   |\n",
      "| 123981 |  7868883021 |  0.12971922699  |  1   |\n",
      "| 123981 |  1581822936 |  0.12971922699  |  2   |\n",
      "| 123981 |  1560255048 |  0.12971922699  |  3   |\n",
      "| 225087 |  7897087121 | 0.0790956260003 |  1   |\n",
      "| 225087 |  1859744362 | 0.0790956260003 |  2   |\n",
      "| 225087 |  1554135221 | 0.0790956260003 |  3   |\n",
      "| 236959 |  3454029121 |  0.312543279595 |  1   |\n",
      "| 236959 |  644084021  |  0.226804614067 |  2   |\n",
      "| 236959 |  9165153221 |  0.226804614067 |  3   |\n",
      "| 162052 |  1558762671 |  0.219417054313 |  1   |\n",
      "| 162052 |  1404213621 |  0.219417054313 |  2   |\n",
      "| 162052 |  3730595421 |  0.219417054313 |  3   |\n",
      "| 208568 |  1551665468 |  0.397098472244 |  1   |\n",
      "| 208568 |  1570821380 |  0.388295603426 |  2   |\n",
      "| 208568 |  644714221  |  0.388295603426 |  3   |\n",
      "| 115120 |  3991472521 | 0.0858730269858 |  1   |\n",
      "| 115120 |  1575667754 | 0.0858730269858 |  2   |\n",
      "| 115120 |  9743639121 | 0.0858730269858 |  3   |\n",
      "| 187256 |  1576738922 |  0.347606426477 |  1   |\n",
      "| 187256 |  1556612273 |  0.347606426477 |  2   |\n",
      "| 187256 |  1582432732 |  0.312800601125 |  3   |\n",
      "| 36554  |  1565070003 |  0.278969911429 |  1   |\n",
      "| 36554  |  8472231887 |  0.261500028464 |  2   |\n",
      "| 36554  |  3807258621 |  0.261500028464 |  3   |\n",
      "| 146113 |  1931709807 |  0.152462437948 |  1   |\n",
      "| 146113 |  1562470108 |  0.152462437948 |  2   |\n",
      "| 146113 |  1575660709 |  0.152462437948 |  3   |\n",
      "| 39646  |  7642281721 |  0.203248793429 |  1   |\n",
      "| 39646  |  7582048521 |  0.203248793429 |  2   |\n",
      "| 39646  |  1841953830 |  0.203248793429 |  3   |\n",
      "| 25409  |  6708846021 |  0.230086115274 |  1   |\n",
      "| 25409  |  1582430810 |  0.19284730066  |  2   |\n",
      "| 25409  |  7607190821 |  0.19284730066  |  3   |\n",
      "| 206932 |  8440668058 |  0.270846081747 |  1   |\n",
      "| 206932 |  8423990524 |  0.270846081747 |  2   |\n",
      "| 206932 |  8432215147 |  0.270846081747 |  3   |\n",
      "| 141710 |  8499428721 |  0.240173337715 |  1   |\n",
      "| 141710 |  1402564421 |  0.239710062742 |  2   |\n",
      "| 141710 |  1402377821 |  0.211183003017 |  3   |\n",
      "| 101876 |  1559584017 |  0.251195280893 |  1   |\n",
      "| 101876 |  1571970118 |  0.20588623115  |  2   |\n",
      "| 101876 | 15801730821 |  0.20588623115  |  3   |\n",
      "| 114414 |  1561705683 |  0.178021659086 |  1   |\n",
      "| 114414 |  1565049497 |  0.178021659086 |  2   |\n",
      "| 114414 |  6798050121 |  0.178021659086 |  3   |\n",
      "| 85433  |  3406050514 |  0.258515169746 |  1   |\n",
      "| 85433  |  3522133609 |  0.258515169746 |  2   |\n",
      "| 85433  | 35181039221 |  0.258515169746 |  3   |\n",
      "| 98391  |  1562470108 | 0.0492713570229 |  1   |\n",
      "| 98391  |  5175528521 | 0.0492713570229 |  2   |\n",
      "| 98391  |  3731641921 | 0.0492713570229 |  3   |\n",
      "| 218831 |  3442436087 |  0.479076275459 |  1   |\n",
      "+--------+-------------+-----------------+------+\n",
      "[5010 rows x 4 columns]\n",
      "\n"
     ]
    }
   ],
   "source": [
    "#Make Recommendations:\n",
    "item_collaborative_recomm = item_sim_model.recommend(k=3)\n",
    "item_collaborative_recomm.print_rows(num_rows=100)"
   ]
  },
  {
   "cell_type": "code",
   "execution_count": 29,
   "metadata": {
    "collapsed": false
   },
   "outputs": [
    {
     "name": "stdout",
     "output_type": "stream",
     "text": [
      "PROGRESS: Evaluate model M0\n"
     ]
    },
    {
     "data": {
      "text/html": [
       "<pre>recommendations finished on 1000/1670 queries. users per second: 1048.32</pre>"
      ],
      "text/plain": [
       "recommendations finished on 1000/1670 queries. users per second: 1048.32"
      ]
     },
     "metadata": {},
     "output_type": "display_data"
    },
    {
     "name": "stdout",
     "output_type": "stream",
     "text": [
      "\n",
      "Precision and recall summary statistics by cutoff\n",
      "+--------+----------------+-------------+\n",
      "| cutoff | mean_precision | mean_recall |\n",
      "+--------+----------------+-------------+\n",
      "|   1    |      0.0       |     0.0     |\n",
      "|   2    |      0.0       |     0.0     |\n",
      "|   3    |      0.0       |     0.0     |\n",
      "|   4    |      0.0       |     0.0     |\n",
      "|   5    |      0.0       |     0.0     |\n",
      "|   6    |      0.0       |     0.0     |\n",
      "|   7    |      0.0       |     0.0     |\n",
      "|   8    |      0.0       |     0.0     |\n",
      "|   9    |      0.0       |     0.0     |\n",
      "|   10   |      0.0       |     0.0     |\n",
      "+--------+----------------+-------------+\n",
      "[10 rows x 3 columns]\n",
      "\n",
      "PROGRESS: Evaluate model M1\n"
     ]
    },
    {
     "data": {
      "text/html": [
       "<pre>recommendations finished on 1000/1670 queries. users per second: 1365.93</pre>"
      ],
      "text/plain": [
       "recommendations finished on 1000/1670 queries. users per second: 1365.93"
      ]
     },
     "metadata": {},
     "output_type": "display_data"
    },
    {
     "name": "stdout",
     "output_type": "stream",
     "text": [
      "\n",
      "Precision and recall summary statistics by cutoff\n",
      "+--------+-----------------+------------------+\n",
      "| cutoff |  mean_precision |   mean_recall    |\n",
      "+--------+-----------------+------------------+\n",
      "|   1    |  0.025748502994 | 0.00148659618987 |\n",
      "|   2    | 0.0212574850299 | 0.00248240132034 |\n",
      "|   3    | 0.0187624750499 | 0.00334872191246 |\n",
      "|   4    | 0.0175149700599 | 0.00414388888121 |\n",
      "|   5    | 0.0168862275449 | 0.00497495448351 |\n",
      "|   6    | 0.0161676646707 | 0.00575098637858 |\n",
      "|   7    | 0.0153977758768 | 0.00627716779244 |\n",
      "|   8    | 0.0149700598802 | 0.0068927837097  |\n",
      "|   9    | 0.0149035262808 | 0.00758159340089 |\n",
      "|   10   | 0.0150898203593 | 0.00841687426189 |\n",
      "+--------+-----------------+------------------+\n",
      "[10 rows x 3 columns]\n",
      "\n",
      "Model compare metric: precision_recall\n",
      "Canvas is accessible via web browser at the URL: http://localhost:54187/index.html\n",
      "Opening Canvas in default web browser.\n"
     ]
    }
   ],
   "source": [
    "model_performance = graphlab.compare(test_data, [popularity_model, item_sim_model])\n",
    "graphlab.show_comparison(model_performance,[popularity_model, item_sim_model])"
   ]
  },
  {
   "cell_type": "code",
   "execution_count": null,
   "metadata": {
    "collapsed": true
   },
   "outputs": [],
   "source": []
  }
 ],
 "metadata": {
  "kernelspec": {
   "display_name": "Python 2",
   "language": "python",
   "name": "python2"
  },
  "language_info": {
   "codemirror_mode": {
    "name": "ipython",
    "version": 2
   },
   "file_extension": ".py",
   "mimetype": "text/x-python",
   "name": "python",
   "nbconvert_exporter": "python",
   "pygments_lexer": "ipython2",
   "version": "2.7.11"
  }
 },
 "nbformat": 4,
 "nbformat_minor": 0
}
