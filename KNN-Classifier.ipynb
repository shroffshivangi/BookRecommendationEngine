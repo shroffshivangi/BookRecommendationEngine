{
 "cells": [
  {
   "cell_type": "code",
   "execution_count": 1,
   "metadata": {
    "collapsed": true
   },
   "outputs": [],
   "source": [
    "%matplotlib inline\n",
    "import matplotlib.pyplot as plt\n",
    "import pandas as pd\n",
    "import numpy as np\n",
    "import csv\n",
    "import random\n",
    "import math\n",
    "import operator"
   ]
  },
  {
   "cell_type": "code",
   "execution_count": 56,
   "metadata": {
    "collapsed": false
   },
   "outputs": [
    {
     "name": "stdout",
     "output_type": "stream",
     "text": [
      "Index(['UserID', 'ISBN', 'Rating', 'Author_stndr_values', 'Age_Stanrd',\n",
      "       'Cntry_Stnd'],\n",
      "      dtype='object')\n"
     ]
    }
   ],
   "source": [
    "from sklearn.neighbors import KNeighborsClassifier\n",
    "#Book = pd.read_excel('/home/data/MSA8010/msa8010f16t01/FinalD_Mukhar.xlsx',sheetname='FinalData',encoding='latin-1')\n",
    "Book = pd.read_csv('/home/data/MSA8010/msa8010f16t01/KNN_Classifier_Dataset.csv',encoding='latin-1')\n",
    "\n",
    "print(Book.columns)"
   ]
  },
  {
   "cell_type": "code",
   "execution_count": 57,
   "metadata": {
    "collapsed": false
   },
   "outputs": [
    {
     "data": {
      "text/plain": [
       "UserID\n",
       "8          7\n",
       "10         1\n",
       "12         1\n",
       "22         4\n",
       "32         2\n",
       "36         1\n",
       "44         1\n",
       "64         1\n",
       "67         1\n",
       "68         1\n",
       "69         1\n",
       "70         1\n",
       "75         1\n",
       "79         1\n",
       "83         1\n",
       "92         3\n",
       "99         1\n",
       "102        1\n",
       "160        1\n",
       "176        3\n",
       "183        8\n",
       "207        1\n",
       "228        1\n",
       "242       26\n",
       "243        7\n",
       "244        2\n",
       "250        1\n",
       "254       52\n",
       "256        1\n",
       "257        2\n",
       "          ..\n",
       "278597     1\n",
       "278621     1\n",
       "278633     7\n",
       "278637    16\n",
       "278641     2\n",
       "278644     1\n",
       "278648     1\n",
       "278663     1\n",
       "278665     2\n",
       "278668     5\n",
       "278675     2\n",
       "278694     2\n",
       "278720     2\n",
       "278721     1\n",
       "278729     1\n",
       "278731     1\n",
       "278732     1\n",
       "278747     2\n",
       "278750     1\n",
       "278777     1\n",
       "278778     1\n",
       "278788     1\n",
       "278789     2\n",
       "278795     1\n",
       "278832     3\n",
       "278838     3\n",
       "278843    13\n",
       "278844     1\n",
       "278851     6\n",
       "278854     1\n",
       "dtype: int64"
      ]
     },
     "execution_count": 57,
     "metadata": {},
     "output_type": "execute_result"
    }
   ],
   "source": [
    "x=Book.groupby('UserID').size()\n",
    "x\n",
    "#np.array(x)"
   ]
  },
  {
   "cell_type": "code",
   "execution_count": 58,
   "metadata": {
    "collapsed": false
   },
   "outputs": [],
   "source": [
    "newBookDatadict = {'UserID':['count']}\n",
    "#print(newBookDatadict)\n",
    "newBookDatadf = Book.groupby('UserID').agg(newBookDatadict)\n",
    "newBookDatadf = newBookDatadf.reset_index()\n",
    "newBookDatadf.columns = ('UserID','UserIDCount')\n",
    "newBookDatadf = newBookDatadf[(newBookDatadf.UserIDCount>20)]\n",
    "#Book=newBookDatadf"
   ]
  },
  {
   "cell_type": "code",
   "execution_count": 59,
   "metadata": {
    "collapsed": false
   },
   "outputs": [
    {
     "data": {
      "text/html": [
       "<div>\n",
       "<table border=\"1\" class=\"dataframe\">\n",
       "  <thead>\n",
       "    <tr style=\"text-align: right;\">\n",
       "      <th></th>\n",
       "      <th>UserID</th>\n",
       "      <th>ISBN</th>\n",
       "      <th>Rating</th>\n",
       "      <th>Author_stndr_values</th>\n",
       "      <th>Age_Stanrd</th>\n",
       "      <th>Cntry_Stnd</th>\n",
       "    </tr>\n",
       "  </thead>\n",
       "  <tbody>\n",
       "    <tr>\n",
       "      <th>0</th>\n",
       "      <td>242</td>\n",
       "      <td>34231136021</td>\n",
       "      <td>10</td>\n",
       "      <td>0.001021555</td>\n",
       "      <td>0.425287</td>\n",
       "      <td>0.344538</td>\n",
       "    </tr>\n",
       "    <tr>\n",
       "      <th>1</th>\n",
       "      <td>242</td>\n",
       "      <td>3596292646</td>\n",
       "      <td>7</td>\n",
       "      <td>0.003268975</td>\n",
       "      <td>0.425287</td>\n",
       "      <td>0.344538</td>\n",
       "    </tr>\n",
       "    <tr>\n",
       "      <th>2</th>\n",
       "      <td>242</td>\n",
       "      <td>3570300099</td>\n",
       "      <td>6</td>\n",
       "      <td>0.00858106</td>\n",
       "      <td>0.425287</td>\n",
       "      <td>0.344538</td>\n",
       "    </tr>\n",
       "    <tr>\n",
       "      <th>3</th>\n",
       "      <td>242</td>\n",
       "      <td>3548254268</td>\n",
       "      <td>10</td>\n",
       "      <td>0.213479416</td>\n",
       "      <td>0.425287</td>\n",
       "      <td>0.344538</td>\n",
       "    </tr>\n",
       "    <tr>\n",
       "      <th>4</th>\n",
       "      <td>242</td>\n",
       "      <td>3518111000</td>\n",
       "      <td>5</td>\n",
       "      <td>0.017979365</td>\n",
       "      <td>0.425287</td>\n",
       "      <td>0.344538</td>\n",
       "    </tr>\n",
       "  </tbody>\n",
       "</table>\n",
       "</div>"
      ],
      "text/plain": [
       "   UserID         ISBN  Rating Author_stndr_values  Age_Stanrd  Cntry_Stnd\n",
       "0     242  34231136021      10         0.001021555    0.425287    0.344538\n",
       "1     242   3596292646       7         0.003268975    0.425287    0.344538\n",
       "2     242   3570300099       6          0.00858106    0.425287    0.344538\n",
       "3     242   3548254268      10         0.213479416    0.425287    0.344538\n",
       "4     242   3518111000       5         0.017979365    0.425287    0.344538"
      ]
     },
     "execution_count": 59,
     "metadata": {},
     "output_type": "execute_result"
    }
   ],
   "source": [
    "joinedBookData = pd.merge(newBookDatadf,Book, on = \"UserID\", how = \"inner\")\n",
    "del joinedBookData['UserIDCount']\n",
    "Book=joinedBookData\n",
    "Book.head()"
   ]
  },
  {
   "cell_type": "code",
   "execution_count": 60,
   "metadata": {
    "collapsed": false
   },
   "outputs": [
    {
     "data": {
      "image/png": "[encoded data removed]",
      "text/plain": [
       "<matplotlib.figure.Figure at 0x7fb0ecdac2b0>"
      ]
     },
     "metadata": {},
     "output_type": "display_data"
    }
   ],
   "source": [
    "Book.plot(kind='box', subplots=True,sharex=False, sharey=False)\n",
    "plt.show()"
   ]
  },
  {
   "cell_type": "code",
   "execution_count": 61,
   "metadata": {
    "collapsed": false
   },
   "outputs": [
    {
     "data": {
      "text/plain": [
       "UserID                   int64\n",
       "ISBN                     int64\n",
       "Rating                   int64\n",
       "Author_stndr_values     object\n",
       "Age_Stanrd             float64\n",
       "Cntry_Stnd             float64\n",
       "dtype: object"
      ]
     },
     "execution_count": 61,
     "metadata": {},
     "output_type": "execute_result"
    }
   ],
   "source": [
    "Book.UserID.dtype\n",
    "Book.dtypes\n",
    "#Book['ISBN'].astype('float64')"
   ]
  },
  {
   "cell_type": "code",
   "execution_count": 62,
   "metadata": {
    "collapsed": false
   },
   "outputs": [
    {
     "name": "stdout",
     "output_type": "stream",
     "text": [
      "(104448, 3)\n"
     ]
    },
    {
     "data": {
      "text/plain": [
       "array([[  4.25287356e-01,   3.44537815e-01,   3.42311360e+10],\n",
       "       [  4.25287356e-01,   3.44537815e-01,   3.59629265e+09],\n",
       "       [  4.25287356e-01,   3.44537815e-01,   3.57030010e+09],\n",
       "       ..., \n",
       "       [  4.02298851e-01,   9.50055494e-01,   6.01595721e+08],\n",
       "       [  4.02298851e-01,   9.50055494e-01,   3.02143621e+08],\n",
       "       [  4.02298851e-01,   9.50055494e-01,   2.04330021e+08]])"
      ]
     },
     "execution_count": 62,
     "metadata": {},
     "output_type": "execute_result"
    }
   ],
   "source": [
    "X=Book[['Age_Stanrd','Cntry_Stnd','ISBN']]\n",
    "y=Book[['Rating']]\n",
    "print(X.shape)\n",
    "y1=np.array(y)\n",
    "y1\n",
    "X1=np.array(X)\n",
    "X1"
   ]
  },
  {
   "cell_type": "code",
   "execution_count": 63,
   "metadata": {
    "collapsed": false
   },
   "outputs": [
    {
     "name": "stdout",
     "output_type": "stream",
     "text": [
      "Labels for training and testing data\n",
      "        Rating\n",
      "91755        9\n",
      "30860        7\n",
      "3831        10\n",
      "77278        9\n",
      "100541       4\n",
      "30957        5\n",
      "28480       10\n",
      "77621        8\n",
      "50720        9\n",
      "75870        5\n",
      "103635       6\n",
      "23824        6\n",
      "100704       6\n",
      "34546        8\n",
      "46934        8\n",
      "83077       10\n",
      "17989        5\n",
      "49633        4\n",
      "23101        7\n",
      "49431        6\n",
      "19665        6\n",
      "65380        9\n",
      "41382        2\n",
      "18737        6\n",
      "75942        2\n",
      "81818        8\n",
      "77080        5\n",
      "11576        7\n",
      "103416      10\n",
      "54133        8\n",
      "...        ...\n",
      "6648         9\n",
      "30255        4\n",
      "83266       10\n",
      "72020        7\n",
      "26626        9\n",
      "45507        6\n",
      "73521        1\n",
      "83012        1\n",
      "14944        7\n",
      "96676       10\n",
      "68861        8\n",
      "35662        8\n",
      "17747        6\n",
      "101785      10\n",
      "65647        2\n",
      "33710       10\n",
      "71200        5\n",
      "23166       10\n",
      "55409        5\n",
      "65632        3\n",
      "22241       10\n",
      "89302        5\n",
      "46203        7\n",
      "73299        9\n",
      "15377        7\n",
      "63206        6\n",
      "61404        5\n",
      "17730        6\n",
      "28030       10\n",
      "15725        6\n",
      "\n",
      "[73113 rows x 1 columns]\n",
      "        Rating\n",
      "55154        4\n",
      "92715        1\n",
      "72327        4\n",
      "88932        2\n",
      "4931         8\n",
      "39225        4\n",
      "15695        6\n",
      "8417         9\n",
      "25923        3\n",
      "68695        1\n",
      "4684         7\n",
      "30552        8\n",
      "92493        1\n",
      "31355        2\n",
      "40649        1\n",
      "48011        7\n",
      "98580       10\n",
      "57105        7\n",
      "102969       8\n",
      "95259        8\n",
      "23473        4\n",
      "27048        4\n",
      "33458        7\n",
      "80075        8\n",
      "17153        7\n",
      "47832        3\n",
      "98872        5\n",
      "103798       6\n",
      "28325        8\n",
      "30961        6\n",
      "...        ...\n",
      "96030       10\n",
      "40921       10\n",
      "51004        4\n",
      "95236        4\n",
      "45716        3\n",
      "745          5\n",
      "64195        2\n",
      "48374        1\n",
      "46377        3\n",
      "7482         7\n",
      "1584         9\n",
      "78241        6\n",
      "6668         3\n",
      "92386        9\n",
      "30252        7\n",
      "30489        8\n",
      "52965        7\n",
      "35522        8\n",
      "8113        10\n",
      "63380        7\n",
      "39805        8\n",
      "88466        8\n",
      "91070       10\n",
      "60908        5\n",
      "83928        1\n",
      "67574        1\n",
      "218          5\n",
      "103889       8\n",
      "5119         1\n",
      "103618       4\n",
      "\n",
      "[31335 rows x 1 columns]\n"
     ]
    }
   ],
   "source": [
    "from sklearn.cross_validation import train_test_split\n",
    "\n",
    "train_X, test_X, train_y, test_y = train_test_split(X, y, \n",
    "                                                    train_size=0.7, \n",
    "                                                    random_state=123)\n",
    "print(\"Labels for training and testing data\")\n",
    "print(train_y)\n",
    "print(test_y)"
   ]
  },
  {
   "cell_type": "code",
   "execution_count": 64,
   "metadata": {
    "collapsed": false
   },
   "outputs": [
    {
     "name": "stdout",
     "output_type": "stream",
     "text": [
      "Labels for training and testing data\n",
      "        Rating\n",
      "96657        8\n",
      "45028        8\n",
      "20701       10\n",
      "23402        7\n",
      "57941       10\n",
      "102281       5\n",
      "95071        6\n",
      "94726        7\n",
      "56747        6\n",
      "68716        5\n",
      "65841        8\n",
      "38000       10\n",
      "10263        2\n",
      "67601        9\n",
      "27734        6\n",
      "25514        6\n",
      "77452        7\n",
      "39855        2\n",
      "4409         5\n",
      "78362        8\n",
      "98235        4\n",
      "4833         4\n",
      "44694        9\n",
      "45140        9\n",
      "54696        6\n",
      "78185       10\n",
      "27642        8\n",
      "23091        7\n",
      "17775        7\n",
      "8132         3\n",
      "...        ...\n",
      "79431        7\n",
      "80874        8\n",
      "3368         7\n",
      "32474        9\n",
      "97498        8\n",
      "8333         3\n",
      "31861        7\n",
      "89934        4\n",
      "38285        2\n",
      "64347        7\n",
      "95044        9\n",
      "5990         5\n",
      "83404        3\n",
      "2225        10\n",
      "58323       10\n",
      "101548       9\n",
      "32144        8\n",
      "19609        9\n",
      "55812        7\n",
      "52324        6\n",
      "94308        4\n",
      "76406        1\n",
      "80829        3\n",
      "24594        9\n",
      "24919        5\n",
      "2045         2\n",
      "73323        4\n",
      "54380        4\n",
      "32704        8\n",
      "81728        4\n",
      "\n",
      "[52224 rows x 1 columns]\n",
      "        Rating\n",
      "72277        9\n",
      "32514        6\n",
      "59360        4\n",
      "40487        6\n",
      "44028        8\n",
      "4628        10\n",
      "35366        4\n",
      "53522        7\n",
      "98458        8\n",
      "85091        4\n",
      "79463        9\n",
      "78629        6\n",
      "2803         6\n",
      "47269        4\n",
      "58457        9\n",
      "14647       10\n",
      "55209        2\n",
      "27998       10\n",
      "532          2\n",
      "5242         8\n",
      "6258         1\n",
      "19445        2\n",
      "51297        7\n",
      "59789        1\n",
      "26983        1\n",
      "68759        6\n",
      "81914        9\n",
      "61833        3\n",
      "7058        10\n",
      "61418        1\n",
      "...        ...\n",
      "33826        6\n",
      "101415       8\n",
      "24719        6\n",
      "7462         7\n",
      "57956       10\n",
      "38863        5\n",
      "22277        1\n",
      "1296         8\n",
      "2415         1\n",
      "95749        8\n",
      "7093         7\n",
      "88519       10\n",
      "41739       10\n",
      "77851        9\n",
      "17748       10\n",
      "22260       10\n",
      "7274        10\n",
      "80321        5\n",
      "27422       10\n",
      "45491        9\n",
      "7881         5\n",
      "28752        7\n",
      "81183        9\n",
      "6518         9\n",
      "42035        5\n",
      "104229       1\n",
      "32934        5\n",
      "83061        7\n",
      "12714       10\n",
      "60816        8\n",
      "\n",
      "[52224 rows x 1 columns]\n"
     ]
    }
   ],
   "source": [
    "from sklearn.cross_validation import train_test_split\n",
    "train_X, test_X, train_y, test_y = train_test_split(X, y, train_size=0.5, random_state=1999)\n",
    "print(\"Labels for training and testing data\")\n",
    "print(train_y)\n",
    "print(test_y)"
   ]
  },
  {
   "cell_type": "code",
   "execution_count": 65,
   "metadata": {
    "collapsed": false
   },
   "outputs": [
    {
     "name": "stdout",
     "output_type": "stream",
     "text": [
      "(104448, 1)\n",
      "All: [  0.           7.00539982   6.96135876   7.14518229   7.40081189\n",
      "  10.07199755   9.0312883   12.05671722  14.30376838  12.23671109\n",
      "  13.78676471]\n",
      "Training: [  0.           7.00559408   6.96182621   7.14510415   7.40087262\n",
      "  10.0720802    9.03122564  12.05667939  14.30388577  12.23585409\n",
      "  13.78687785]\n",
      "Test: [  0.           7.00494655   6.96026807   7.14536461   7.40067018\n",
      "  10.07180469   9.0314345   12.05680549  14.30349449  12.23871071\n",
      "  13.78650072]\n"
     ]
    }
   ],
   "source": [
    "train_X, test_X, train_y, test_y = train_test_split(X1, y1, \n",
    "                                                    train_size=0.7, \n",
    "                                                    random_state=123,\n",
    "                                                    stratify=y)\n",
    "print(y1.shape)\n",
    "y1=np.reshape(y1, len(y1))\n",
    "train_y=np.reshape(train_y, len(train_y))\n",
    "test_y=np.reshape(test_y, len(test_y))\n",
    "print('All:', np.bincount(y1) / float(len(y1)) * 100.0)\n",
    "print('Training:', np.bincount(train_y) / float(len(train_y)) * 100.0)\n",
    "print('Test:', np.bincount(test_y) / float(len(test_y)) * 100.0)"
   ]
  },
  {
   "cell_type": "code",
   "execution_count": 66,
   "metadata": {
    "collapsed": false
   },
   "outputs": [],
   "source": [
    "train_X, test_X, train_y, test_y = train_test_split(X, y, \n",
    "                                                    train_size=0.7, \n",
    "                                                    random_state=123,\n",
    "                                                    stratify=y)\n"
   ]
  },
  {
   "cell_type": "code",
   "execution_count": 67,
   "metadata": {
    "collapsed": false
   },
   "outputs": [
    {
     "name": "stdout",
     "output_type": "stream",
     "text": [
      "(31335, 1)\n"
     ]
    }
   ],
   "source": [
    "train_X=train_X._get_numeric_data()\n",
    "train_y=train_y._get_numeric_data()\n",
    "test_X=test_X._get_numeric_data()\n",
    "test_y=test_y._get_numeric_data()\n",
    "print(test_y.shape)"
   ]
  },
  {
   "cell_type": "code",
   "execution_count": 68,
   "metadata": {
    "collapsed": true
   },
   "outputs": [],
   "source": [
    "y1=np.reshape(y1, len(y1))\n",
    "train_y=np.reshape(train_y, len(train_y))\n",
    "test_y=np.reshape(test_y, len(test_y))"
   ]
  },
  {
   "cell_type": "code",
   "execution_count": 69,
   "metadata": {
    "collapsed": true
   },
   "outputs": [],
   "source": [
    "classifier = KNeighborsClassifier(n_neighbors=5)"
   ]
  },
  {
   "cell_type": "code",
   "execution_count": 70,
   "metadata": {
    "collapsed": false
   },
   "outputs": [
    {
     "name": "stdout",
     "output_type": "stream",
     "text": [
      "Fraction Correct [Accuracy]:\n",
      "0.114855592788\n"
     ]
    }
   ],
   "source": [
    "classifier.fit(train_X, train_y.values.ravel())\n",
    "pred_y = classifier.predict(test_X)\n",
    "test_y=test_y.values.ravel()\n",
    "\n",
    "print(\"Fraction Correct [Accuracy]:\")\n",
    "print(np.sum(pred_y == test_y) / float(len(test_y)))"
   ]
  },
  {
   "cell_type": "code",
   "execution_count": 71,
   "metadata": {
    "collapsed": false
   },
   "outputs": [
    {
     "name": "stdout",
     "output_type": "stream",
     "text": [
      "[4757, 3575, 2743, 2148, 2760, 1990, 3117, 3982, 2921, 3342]\n"
     ]
    }
   ],
   "source": [
    "random.seed(10)\n",
    "xf=[0,0,0,0,0,0,0,0,0,0]\n",
    "\n",
    "\n",
    "for i in pred_y:\n",
    "    if (i== 1):\n",
    "        xf[0]+=1\n",
    "    elif(i==2):\n",
    "        xf[1]+=1\n",
    "    elif(i==3):\n",
    "        xf[2]+=1\n",
    "    elif(i==4):\n",
    "        xf[3]+=1\n",
    "    elif(i==5):\n",
    "        xf[4]+=1\n",
    "    elif(i==6):\n",
    "        xf[5]+=1\n",
    "    elif(i==7):\n",
    "        xf[6]+=1\n",
    "    elif(i==8):\n",
    "        xf[7]+=1\n",
    "    elif(i==9):\n",
    "        xf[8]+=1\n",
    "    elif(i==10):\n",
    "        xf[9]+=1\n",
    "        \n",
    "print(xf)\n",
    "yax=[0,1000,2000,3000,4000,5000,6000,7000,8000,9000] "
   ]
  },
  {
   "cell_type": "code",
   "execution_count": 72,
   "metadata": {
    "collapsed": false
   },
   "outputs": [
    {
     "data": {
      "image/png": "[encoded data removed]",
      "text/plain": [
       "<matplotlib.figure.Figure at 0x7fb08af5ef98>"
      ]
     },
     "metadata": {},
     "output_type": "display_data"
    }
   ],
   "source": [
    "random.seed(10)\n",
    "\n",
    "N = 50\n",
    "x = xf\n",
    "y = yax\n",
    "colors = ['blue','red','green','cyan']\n",
    "area = np.pi * (15 * np.random.rand(N))**2  # 0 to 15 point radiuses\n",
    "\n",
    "plt.scatter(x, y, s=area, c=colors, alpha=0.5)\n",
    "plt.show()"
   ]
  },
  {
   "cell_type": "code",
   "execution_count": 73,
   "metadata": {
    "collapsed": false
   },
   "outputs": [
    {
     "name": "stdout",
     "output_type": "stream",
     "text": [
      "[2195, 2181, 2239, 2319, 3156, 2830, 3778, 4482, 3835, 4320]\n"
     ]
    }
   ],
   "source": [
    "yf=[0,0,0,0,0,0,0,0,0,0]\n",
    "\n",
    "\n",
    "for i in test_y:\n",
    "    if (i== 1):\n",
    "        yf[0]+=1\n",
    "    elif(i==2):\n",
    "        yf[1]+=1\n",
    "    elif(i==3):\n",
    "        yf[2]+=1\n",
    "    elif(i==4):\n",
    "        yf[3]+=1\n",
    "    elif(i==5):\n",
    "        yf[4]+=1\n",
    "    elif(i==6):\n",
    "        yf[5]+=1\n",
    "    elif(i==7):\n",
    "        yf[6]+=1\n",
    "    elif(i==8):\n",
    "        yf[7]+=1\n",
    "    elif(i==9):\n",
    "        yf[8]+=1\n",
    "    elif(i==10):\n",
    "        yf[9]+=1\n",
    "        \n",
    "print(yf)\n",
    "\n",
    "\n",
    "yaxi=[0,1000,2000,3000,4000,5000,6000,7000,8000,9000]   "
   ]
  },
  {
   "cell_type": "code",
   "execution_count": 74,
   "metadata": {
    "collapsed": false
   },
   "outputs": [
    {
     "name": "stdout",
     "output_type": "stream",
     "text": [
      "[2195, 2181, 2239, 2319, 3156, 2830, 3778, 4482, 3835, 4320]\n"
     ]
    }
   ],
   "source": [
    "print(yf)\n",
    "yf1=[7200,6391,7470,6296,4716,5260,3865,3732,3635,3659]"
   ]
  },
  {
   "cell_type": "code",
   "execution_count": 75,
   "metadata": {
    "collapsed": true
   },
   "outputs": [],
   "source": [
    "import numpy as np"
   ]
  },
  {
   "cell_type": "code",
   "execution_count": 76,
   "metadata": {
    "collapsed": false
   },
   "outputs": [
    {
     "data": {
      "image/png": "[encoded data removed]",
      "text/plain": [
       "<matplotlib.figure.Figure at 0x7fb0ecd7b2b0>"
      ]
     },
     "metadata": {},
     "output_type": "display_data"
    }
   ],
   "source": [
    "\n",
    "random.seed(10)\n",
    "N = 50\n",
    "x = yf1\n",
    "y = yaxi\n",
    "colors = ['blue','red','green','cyan']\n",
    "area = np.pi * (15 * np.random.rand(N))**2  # 0 to 15 point radiuses\n",
    "\n",
    "plt.scatter(x, y, s=area, c=colors, alpha=0.5)\n",
    "plt.show()"
   ]
  },
  {
   "cell_type": "code",
   "execution_count": 77,
   "metadata": {
    "collapsed": false
   },
   "outputs": [
    {
     "data": {
      "image/png": "[encoded data removed]",
      "text/plain": [
       "<matplotlib.figure.Figure at 0x7fb08af3c550>"
      ]
     },
     "metadata": {},
     "output_type": "display_data"
    }
   ],
   "source": [
    "fig = plt.figure()\n",
    "ay = fig.add_subplot(111)\n",
    "\n",
    "\n",
    "numBins = 10\n",
    "ay.hist(test_y,numBins,color='cyan',alpha=0.8)\n",
    "plt.show()"
   ]
  },
  {
   "cell_type": "code",
   "execution_count": 78,
   "metadata": {
    "collapsed": false
   },
   "outputs": [
    {
     "name": "stdout",
     "output_type": "stream",
     "text": [
      "104448\n",
      "104448\n"
     ]
    },
    {
     "data": {
      "image/png": "[encoded data removed]",
      "text/plain": [
       "<matplotlib.figure.Figure at 0x7fb08afa1908>"
      ]
     },
     "metadata": {},
     "output_type": "display_data"
    }
   ],
   "source": [
    "import numpy as np\n",
    "import matplotlib.pyplot as plt\n",
    "\n",
    "X=Book[['Age_Stanrd']]\n",
    "y=Book[['Rating']]\n",
    "\n",
    "N = 50\n",
    "\n",
    "colors = np.random.rand(N)\n",
    "print(X.size)\n",
    "print(y.size)\n",
    "\n",
    "plt.scatter(X,y)\n",
    "plt.show()"
   ]
  },
  {
   "cell_type": "code",
   "execution_count": 79,
   "metadata": {
    "collapsed": false
   },
   "outputs": [
    {
     "name": "stdout",
     "output_type": "stream",
     "text": [
      "[ 9  2 10 ...,  1  9  1]\n",
      "[5 6 1 ..., 9 8 8]\n",
      "0.114855592788\n",
      "0.114855592788\n",
      "0.373640802593\n"
     ]
    }
   ],
   "source": [
    "prediction = classifier.predict(test_X)\n",
    "print(prediction)\n",
    "print(test_y)\n",
    "print(np.mean(prediction == test_y))\n",
    "print(classifier.score(test_X, test_y))\n",
    "print(classifier.score(train_X, train_y))"
   ]
  },
  {
   "cell_type": "code",
   "execution_count": 80,
   "metadata": {
    "collapsed": false
   },
   "outputs": [
    {
     "name": "stderr",
     "output_type": "stream",
     "text": [
      "/usr/lib/python3.4/site-packages/ipykernel/__main__.py:20: DataConversionWarning: A column-vector y was passed when a 1d array was expected. Please change the shape of y to (n_samples, ), for example using ravel().\n"
     ]
    },
    {
     "name": "stdout",
     "output_type": "stream",
     "text": [
      "k: 1, Train/Valid Acc: 1.000/0.115\n",
      "k: 2, Train/Valid Acc: 0.562/0.098\n",
      "k: 3, Train/Valid Acc: 0.441/0.097\n",
      "k: 4, Train/Valid Acc: 0.399/0.098\n",
      "k: 5, Train/Valid Acc: 0.373/0.108\n",
      "k: 6, Train/Valid Acc: 0.348/0.112\n",
      "k: 7, Train/Valid Acc: 0.333/0.112\n",
      "k: 8, Train/Valid Acc: 0.313/0.111\n",
      "k: 9, Train/Valid Acc: 0.296/0.111\n",
      "k: 10, Train/Valid Acc: 0.288/0.111\n",
      "k: 11, Train/Valid Acc: 0.278/0.114\n",
      "k: 12, Train/Valid Acc: 0.278/0.116\n",
      "k: 13, Train/Valid Acc: 0.269/0.117\n",
      "k: 14, Train/Valid Acc: 0.257/0.119\n",
      "k: 15, Train/Valid Acc: 0.253/0.120\n",
      "k: 16, Train/Valid Acc: 0.252/0.117\n",
      "k: 17, Train/Valid Acc: 0.244/0.117\n",
      "k: 18, Train/Valid Acc: 0.244/0.118\n",
      "k: 19, Train/Valid Acc: 0.238/0.118\n",
      "k: 20, Train/Valid Acc: 0.237/0.119\n",
      "k: 21, Train/Valid Acc: 0.239/0.122\n",
      "k: 22, Train/Valid Acc: 0.234/0.122\n",
      "k: 23, Train/Valid Acc: 0.232/0.121\n",
      "k: 24, Train/Valid Acc: 0.230/0.122\n",
      "k: 25, Train/Valid Acc: 0.229/0.123\n",
      "k: 26, Train/Valid Acc: 0.226/0.122\n",
      "k: 27, Train/Valid Acc: 0.224/0.123\n",
      "k: 28, Train/Valid Acc: 0.223/0.124\n",
      "k: 29, Train/Valid Acc: 0.221/0.126\n",
      "k: 30, Train/Valid Acc: 0.219/0.126\n",
      "k: 31, Train/Valid Acc: 0.215/0.127\n",
      "k: 32, Train/Valid Acc: 0.212/0.127\n",
      "k: 33, Train/Valid Acc: 0.210/0.127\n",
      "k: 34, Train/Valid Acc: 0.209/0.128\n",
      "k: 35, Train/Valid Acc: 0.206/0.128\n",
      "k: 36, Train/Valid Acc: 0.208/0.128\n",
      "k: 37, Train/Valid Acc: 0.206/0.130\n",
      "k: 38, Train/Valid Acc: 0.207/0.130\n",
      "k: 39, Train/Valid Acc: 0.202/0.130\n"
     ]
    }
   ],
   "source": [
    "X=Book[['Age_Stanrd','Author_stndr_values','ISBN','UserID']]\n",
    "y=Book[['Rating']]\n",
    "X_train, X_test, y_train, y_test = train_test_split(X, y,\n",
    "                                                    test_size=0.8,\n",
    "                                                    random_state=123,\n",
    "                                                    stratify=y)\n",
    "\n",
    "\n",
    "X_trainsub, X_valid, y_trainsub, y_valid = train_test_split(X_train, y_train,\n",
    "                                                            test_size=0.8,\n",
    "                                                            random_state=123,\n",
    "                                                            stratify=y_train)\n",
    "X_trainsub=X_trainsub._get_numeric_data()\n",
    "y_trainsub=y_trainsub._get_numeric_data()\n",
    "X_valid=X_valid._get_numeric_data()\n",
    "y_valid=y_valid._get_numeric_data()\n",
    "\n",
    "for k in range(1, 40):\n",
    "    knn = KNeighborsClassifier(n_neighbors=k)\n",
    "    train_score = knn.fit(X_trainsub, y_trainsub).\\\n",
    "        score(X_trainsub, y_trainsub)\n",
    "    valid_score = knn.score(X_valid, y_valid)\n",
    "    print('k: %d, Train/Valid Acc: %.3f/%.3f' %\n",
    "          (k, train_score, valid_score))\n",
    "\n"
   ]
  },
  {
   "cell_type": "code",
   "execution_count": 81,
   "metadata": {
    "collapsed": false
   },
   "outputs": [
    {
     "name": "stdout",
     "output_type": "stream",
     "text": [
      "[   20    22    24 ..., 31278 31287 31291]\n",
      "[    0     1     2 ..., 31332 31333 31334]\n"
     ]
    }
   ],
   "source": [
    "\n",
    "%matplotlib inline\n",
    "import matplotlib.pyplot as plt\n",
    "import numpy as np\n",
    "correct_idx = np.where(pred_y == test_y)[0]\n",
    "print(correct_idx)\n",
    "incorrect_idx = np.where(pred_y != test_y)[0]\n",
    "print(incorrect_idx)"
   ]
  },
  {
   "cell_type": "code",
   "execution_count": null,
   "metadata": {
    "collapsed": true
   },
   "outputs": [],
   "source": []
  }
 ],
 "metadata": {
  "kernelspec": {
   "display_name": "Python 3",
   "language": "python",
   "name": "python3"
  },
  "language_info": {
   "codemirror_mode": {
    "name": "ipython",
    "version": 3
   },
   "file_extension": ".py",
   "mimetype": "text/x-python",
   "name": "python",
   "nbconvert_exporter": "python",
   "pygments_lexer": "ipython3",
   "version": "3.4.3"
  }
 },
 "nbformat": 4,
 "nbformat_minor": 0
}
